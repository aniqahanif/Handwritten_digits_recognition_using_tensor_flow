{
  "nbformat": 4,
  "nbformat_minor": 0,
  "metadata": {
    "colab": {
      "provenance": [],
      "machine_shape": "hm",
      "gpuType": "V100",
      "authorship_tag": "ABX9TyPOOj5IVPWN5d52ZO+b1I5U",
      "include_colab_link": true
    },
    "kernelspec": {
      "name": "python3",
      "display_name": "Python 3"
    },
    "language_info": {
      "name": "python"
    },
    "accelerator": "GPU"
  },
  "cells": [
    {
      "cell_type": "markdown",
      "metadata": {
        "id": "view-in-github",
        "colab_type": "text"
      },
      "source": [
        "<a href=\"https://colab.research.google.com/github/aniqahanif/Handwritten_digits_recognition_using_tensor_flow/blob/master/eGeMAPSExtractionAndCSVCreation.ipynb\" target=\"_parent\"><img src=\"https://colab.research.google.com/assets/colab-badge.svg\" alt=\"Open In Colab\"/></a>"
      ]
    },
    {
      "cell_type": "markdown",
      "source": [
        "# **CSV CREATION**"
      ],
      "metadata": {
        "id": "FAEwmmFwAw6p"
      }
    },
    {
      "cell_type": "code",
      "execution_count": null,
      "metadata": {
        "colab": {
          "base_uri": "https://localhost:8080/"
        },
        "id": "ab41oiuJ_RDD",
        "outputId": "ab79c4c8-321b-4e69-a6f2-6ecb3e67ca4f"
      },
      "outputs": [
        {
          "output_type": "stream",
          "name": "stdout",
          "text": [
            "Mounted at /content/drive\n",
            "Found 54 files in folder: /content/drive/MyDrive/dataset/English-2020/train/data/train/Full_wave_enhanced_audio/cc\n",
            "Found 54 files in folder: /content/drive/MyDrive/dataset/English-2020/train/data/train/Full_wave_enhanced_audio/cd\n",
            "Found 48 files in folder: /content/drive/MyDrive/dataset/English-2020/ADReSS-IS2020-test/ADReSS-IS2020-data/test/Full_wave_enhanced_audio\n",
            "Found 237 files in folder: /content/drive/MyDrive/dataset/English-2023\n",
            "Found 13 files in folder: /content/drive/MyDrive/dataset/german\n",
            "Found 74 files in folder: /content/drive/MyDrive/dataset/spanish/AD-Ivanova/AD\n",
            "Found 197 files in folder: /content/drive/MyDrive/dataset/spanish/AD-Ivanova/HC\n",
            "ID 'HC-W-67-16' not found in the DataFrame index\n",
            "ID 'HC-W-76-65' not found in the DataFrame index\n",
            "Found 90 files in folder: /content/drive/MyDrive/dataset/spanish/AD-Ivanova/MCI\n",
            "ID 'MCI-W-76-36' not found in the DataFrame index\n",
            "Found 8 files in folder: /content/drive/MyDrive/dataset/greek/sample\n",
            "Found 46 files in folder: /content/drive/MyDrive/dataset/greek/test\n",
            "CSV Data:\n",
            "       Audio File   age  gender  education diagnosis language\n",
            "0        S002.wav  62.0  female        NaN        HC  English\n",
            "1        S005.wav  74.0  female        NaN        HC  English\n",
            "2        S004.wav  71.0  female        NaN        HC  English\n",
            "3        S001.wav  74.0    male        NaN        HC  English\n",
            "4        S003.wav  69.0  female        NaN        HC  English\n",
            "..            ...   ...     ...        ...       ...      ...\n",
            "816  madrs094.mp3  66.0  Female       12.0        HC    Greek\n",
            "817  madrs096.mp3  61.0  Female       16.0        HC    Greek\n",
            "818  madrs095.mp3  66.0  Female        8.0        AD    Greek\n",
            "819  madrs098.mp3  70.0  Female       17.0        HC    Greek\n",
            "820  madrs100.mp3  86.0  Female        8.0        AD    Greek\n",
            "\n",
            "[821 rows x 6 columns]\n"
          ]
        }
      ],
      "source": [
        "import os\n",
        "import pandas as pd\n",
        "from google.colab import drive\n",
        "import csv\n",
        "\n",
        "\n",
        "\n",
        "def read_metadata(metadata_file_path):\n",
        "    if metadata_file_path.endswith('.txt'):\n",
        "        df = pd.read_csv(metadata_file_path, delimiter=';', skipinitialspace=True)\n",
        "        df.columns = df.columns.str.strip()  # Strip whitespace from column headers\n",
        "        df.set_index(df.columns[0], inplace=True)  # Set the first column as the index\n",
        "        df = df.apply(lambda x: x.str.strip() if x.dtype == \"object\" else x)\n",
        "        if \"cc\" in metadata_file_path:\n",
        "          df['diagnosis'] = \"HC\"\n",
        "        elif \"cd\" in folder_path:\n",
        "          df['diagnosis'] = \"AD\"\n",
        "        else:\n",
        "          df['diagnosis'] = \"Other\"\n",
        "\n",
        "\n",
        "        return df\n",
        "    elif metadata_file_path.endswith('.xlsx'):\n",
        "        df = pd.read_excel(metadata_file_path, engine='openpyxl')\n",
        "        df.columns = df.columns.str.strip()\n",
        "        df.set_index(df.columns[0], inplace=True)\n",
        "        df = df.apply(lambda x: x.str.strip() if x.dtype == \"object\" else x)\n",
        "        return df\n",
        "    else:\n",
        "        raise ValueError(f\"Unsupported file format for {metadata_file_path}\")\n",
        "\n",
        "\n",
        "def extract_metadata_for_id(metadata_df, file_id, required_fields):\n",
        "    metadata = {field: 'null' for field in required_fields}\n",
        "    # Debugging line: Check if file_id is in the DataFrame index\n",
        "    # print(f\"Looking for ID '{file_id}' in the DataFrame index\")\n",
        "    if file_id in metadata_df.index:\n",
        "        for field in required_fields:\n",
        "            if field in metadata_df.columns:\n",
        "                metadata[field] = metadata_df.at[file_id, field]\n",
        "    else:\n",
        "        # Debugging line: Print if file_id was not found\n",
        "        print(f\"ID '{file_id}' not found in the DataFrame index\")\n",
        "    # print(f\"Extracted metadata for ID '{file_id}': {metadata}\")\n",
        "\n",
        "    return metadata\n",
        "\n",
        "\n",
        "# Mount Google Drive\n",
        "drive.mount('/content/drive', force_remount=True)\n",
        "folders_metadata = {\n",
        "    '/content/drive/MyDrive/dataset/English-2020/train/data/train/Full_wave_enhanced_audio/cc':'/content/drive/MyDrive/dataset/English-2020/train/data/train/cc_meta_data.txt',\n",
        "     '/content/drive/MyDrive/dataset/English-2020/train/data/train/Full_wave_enhanced_audio/cd':'/content/drive/MyDrive/dataset/English-2020/train/data/train/cd_meta_data.txt',\n",
        "    '/content/drive/MyDrive/dataset/English-2020/ADReSS-IS2020-test/ADReSS-IS2020-data/test/Full_wave_enhanced_audio':'/content/drive/MyDrive/dataset/English-2020/ADReSS-IS2020-test/ADReSS-IS2020-data/test/english-2020-test-metadata.xlsx',\n",
        "    '/content/drive/MyDrive/dataset/English-2023':'/content/drive/MyDrive/dataset/eng2023-metadata.xlsx',\n",
        "    '/content/drive/MyDrive/dataset/german':'/content/drive/MyDrive/dataset/german-metadata.xlsx',\n",
        "    '/content/drive/MyDrive/dataset/spanish/AD-Ivanova/AD':'/content/drive/MyDrive/dataset/spanish/AD-Ivanova/Ivanova-meta.xlsx',\n",
        "    '/content/drive/MyDrive/dataset/spanish/AD-Ivanova/HC':'/content/drive/MyDrive/dataset/spanish/AD-Ivanova/Ivanova-meta.xlsx',\n",
        "      '/content/drive/MyDrive/dataset/spanish/AD-Ivanova/MCI':'/content/drive/MyDrive/dataset/spanish/AD-Ivanova/Ivanova-meta.xlsx',\n",
        "    '/content/drive/MyDrive/dataset/greek/sample':'/content/drive/MyDrive/dataset/greek-sample-metadata.xlsx',\n",
        "    '/content/drive/MyDrive/dataset/greek/test':'/content/drive/MyDrive/dataset/greek-test-metadata.xlsx',\n",
        "\n",
        "\n",
        "\n",
        "}\n",
        "\n",
        "required_metadata_fields = ['age', 'gender','diagnosis','education']\n",
        "output_csv_path = '/content/drive/My Drive/dataset/train_data.csv'\n",
        "\n",
        "with open(output_csv_path, mode='w', newline='') as csv_file:\n",
        "    csv_writer = csv.writer(csv_file)\n",
        "    csv_writer.writerow(['Audio File', 'age', 'gender', 'education','diagnosis','language'])  # Headers for CSV\n",
        "\n",
        "    for folder_path, metadata_file_path in folders_metadata.items():\n",
        "        metadata_df = read_metadata(metadata_file_path)\n",
        "        # print(\"Metadata\")\n",
        "        # print(metadata_df)\n",
        "\n",
        "        metadata_df.index = metadata_df.index.str.strip()\n",
        "\n",
        "        audio_files = os.listdir(folder_path)\n",
        "        print(f\"Found {len(audio_files)} files in folder: {folder_path}\")\n",
        "\n",
        "        for file_name in audio_files:\n",
        "            if file_name.endswith('.wav') or file_name.endswith('.mp3'):\n",
        "                file_id = file_name.split('.')[0]\n",
        "                metadata = extract_metadata_for_id(metadata_df, file_id, required_metadata_fields)\n",
        "\n",
        "                # Debugging lines\n",
        "                # print(f\"Processing file: {file_name}\")\n",
        "                # print(f\"Extracted metadata: {metadata}\")\n",
        "                if \"English\" in folder_path:\n",
        "                    language = \"English\"\n",
        "                elif \"spanish\" in folder_path:\n",
        "                    language = \"Spanish\"\n",
        "                elif \"german\" in folder_path:\n",
        "                    language = \"German\"\n",
        "                elif \"greek\" in folder_path:\n",
        "                    language = \"Greek\"\n",
        "                else:\n",
        "                    language = \"Other\"\n",
        "\n",
        "\n",
        "                csv_writer.writerow([file_name, metadata.get('age', 'null'), metadata.get('gender', 'null'), metadata.get('education', '12'),metadata.get('diagnosis', 'null'), language])\n",
        "\n",
        "csv_data = pd.read_csv(output_csv_path)\n",
        "\n",
        "# Print the DataFrame\n",
        "print(\"CSV Data:\")\n",
        "print(csv_data)\n",
        "\n"
      ]
    },
    {
      "cell_type": "markdown",
      "source": [
        "# **Normalization**"
      ],
      "metadata": {
        "id": "HAwZw-KZA3IR"
      }
    },
    {
      "cell_type": "code",
      "source": [
        "!pip install pandas scikit-learn\n",
        "\n",
        "import pandas as pd\n",
        "from sklearn.preprocessing import StandardScaler, OneHotEncoder\n"
      ],
      "metadata": {
        "colab": {
          "base_uri": "https://localhost:8080/"
        },
        "id": "QAMKlSY6A72T",
        "outputId": "9ab68123-4cac-44ff-8826-43f19bf3cdbf"
      },
      "execution_count": null,
      "outputs": [
        {
          "output_type": "stream",
          "name": "stdout",
          "text": [
            "Requirement already satisfied: pandas in /usr/local/lib/python3.10/dist-packages (1.5.3)\n",
            "Requirement already satisfied: scikit-learn in /usr/local/lib/python3.10/dist-packages (1.2.2)\n",
            "Requirement already satisfied: python-dateutil>=2.8.1 in /usr/local/lib/python3.10/dist-packages (from pandas) (2.8.2)\n",
            "Requirement already satisfied: pytz>=2020.1 in /usr/local/lib/python3.10/dist-packages (from pandas) (2023.3.post1)\n",
            "Requirement already satisfied: numpy>=1.21.0 in /usr/local/lib/python3.10/dist-packages (from pandas) (1.23.5)\n",
            "Requirement already satisfied: scipy>=1.3.2 in /usr/local/lib/python3.10/dist-packages (from scikit-learn) (1.11.4)\n",
            "Requirement already satisfied: joblib>=1.1.1 in /usr/local/lib/python3.10/dist-packages (from scikit-learn) (1.3.2)\n",
            "Requirement already satisfied: threadpoolctl>=2.0.0 in /usr/local/lib/python3.10/dist-packages (from scikit-learn) (3.2.0)\n",
            "Requirement already satisfied: six>=1.5 in /usr/local/lib/python3.10/dist-packages (from python-dateutil>=2.8.1->pandas) (1.16.0)\n"
          ]
        }
      ]
    },
    {
      "cell_type": "code",
      "source": [
        "# Replace with the path to your CSV file\n",
        "df = pd.read_csv('/content/drive/MyDrive/dataset/train_data.csv')\n",
        "\n",
        "# Calculate the mode of the 'education' column\n",
        "education_mode = df['education'].mode()[0]\n",
        "\n",
        "# Replace NaN and null values with the mode\n",
        "df['education'].fillna(education_mode, inplace=True)\n",
        "# Verify the changes\n",
        "print(df.head())\n",
        "print(df['education'].isnull().sum())  # This should now be 0\n",
        "\n"
      ],
      "metadata": {
        "colab": {
          "base_uri": "https://localhost:8080/"
        },
        "id": "PVVuKxb0A_lP",
        "outputId": "ed43d4b7-3ebd-4d92-8691-521471a47107"
      },
      "execution_count": null,
      "outputs": [
        {
          "output_type": "stream",
          "name": "stdout",
          "text": [
            "  Audio File   age  gender  education diagnosis language\n",
            "0   S002.wav  62.0  female        8.0        HC  English\n",
            "1   S005.wav  74.0  female        8.0        HC  English\n",
            "2   S004.wav  71.0  female        8.0        HC  English\n",
            "3   S001.wav  74.0    male        8.0        HC  English\n",
            "4   S003.wav  69.0  female        8.0        HC  English\n",
            "0\n"
          ]
        }
      ]
    },
    {
      "cell_type": "code",
      "source": [
        "# One-Hot Encoding for 'gender'\n",
        "df['gender_male'] = df['gender'].apply(lambda x: 1 if x == 'male' else 0)\n",
        "df['gender_female'] = df['gender'].apply(lambda x: 1 if x == 'female' else 0)\n",
        "\n",
        "# One-Hot Encoding for 'diagnosis'\n",
        "df['diagnosis_AD'] = df['diagnosis'].apply(lambda x: 1 if x == 'AD' else 0)\n",
        "df['diagnosis_HC'] = df['diagnosis'].apply(lambda x: 1 if x == 'HC' else 0)\n",
        "\n",
        "# One-Hot Encoding for 'language'\n",
        "df['language_English'] = df['language'].apply(lambda x: 1 if x == 'English' else 0)\n",
        "df['language_Spanish'] = df['language'].apply(lambda x: 1 if x == 'Spanish' else 0)\n",
        "df['language_German'] = df['language'].apply(lambda x: 1 if x == 'German' else 0)\n",
        "df['language_Greek'] = df['language'].apply(lambda x: 1 if x == 'Greek' else 0)\n",
        "\n",
        "\n",
        "\n",
        "scaler = StandardScaler()\n",
        "\n",
        "df['age_scaled'] = scaler.fit_transform(df[['age']])\n",
        "df['education_scaled'] = scaler.fit_transform(df[['education']])\n",
        "df.drop(['gender', 'diagnosis', 'language', 'age', 'education'], axis=1, inplace=True)\n",
        "print(df.head())\n",
        "\n",
        "# Save the processed DataFrame to a new CSV file\n",
        "processed_file_path = '/content/drive/MyDrive/dataset/normalized.csv'\n",
        "df.to_csv(processed_file_path, index=False)\n",
        "\n"
      ],
      "metadata": {
        "colab": {
          "base_uri": "https://localhost:8080/"
        },
        "id": "1m8-azXtBBbl",
        "outputId": "af685e99-d167-4703-9028-ea959e243c1f"
      },
      "execution_count": null,
      "outputs": [
        {
          "output_type": "stream",
          "name": "stdout",
          "text": [
            "  Audio File  gender_male  gender_female  diagnosis_AD  diagnosis_HC  \\\n",
            "0   S002.wav            0              1             0             1   \n",
            "1   S005.wav            0              1             0             1   \n",
            "2   S004.wav            0              1             0             1   \n",
            "3   S001.wav            1              0             0             1   \n",
            "4   S003.wav            0              1             0             1   \n",
            "\n",
            "   language_English  language_Spanish  language_German  language_Greek  \\\n",
            "0                 1                 0                0               0   \n",
            "1                 1                 0                0               0   \n",
            "2                 1                 0                0               0   \n",
            "3                 1                 0                0               0   \n",
            "4                 1                 0                0               0   \n",
            "\n",
            "   age_scaled  education_scaled  \n",
            "0   -1.091348         -0.545372  \n",
            "1    0.223252         -0.545372  \n",
            "2   -0.105398         -0.545372  \n",
            "3    0.223252         -0.545372  \n",
            "4   -0.324498         -0.545372  \n"
          ]
        }
      ]
    },
    {
      "cell_type": "code",
      "source": [
        "!pip install opensmile\n"
      ],
      "metadata": {
        "colab": {
          "base_uri": "https://localhost:8080/"
        },
        "id": "hESIsyZJBDub",
        "outputId": "430e8359-c2e5-415e-9d2a-d373731afa6d"
      },
      "execution_count": null,
      "outputs": [
        {
          "output_type": "stream",
          "name": "stdout",
          "text": [
            "Collecting opensmile\n",
            "  Downloading opensmile-2.5.0-py3-none-manylinux_2_17_x86_64.whl (996 kB)\n",
            "\u001b[2K     \u001b[90m━━━━━━━━━━━━━━━━━━━━━━━━━━━━━━━━━━━━━━━━\u001b[0m \u001b[32m996.2/996.2 kB\u001b[0m \u001b[31m12.7 MB/s\u001b[0m eta \u001b[36m0:00:00\u001b[0m\n",
            "\u001b[?25hCollecting audobject>=0.6.1 (from opensmile)\n",
            "  Downloading audobject-0.7.11-py3-none-any.whl (43 kB)\n",
            "\u001b[2K     \u001b[90m━━━━━━━━━━━━━━━━━━━━━━━━━━━━━━━━━━━━━━━━\u001b[0m \u001b[32m44.0/44.0 kB\u001b[0m \u001b[31m6.2 MB/s\u001b[0m eta \u001b[36m0:00:00\u001b[0m\n",
            "\u001b[?25hCollecting audinterface>=0.7.0 (from opensmile)\n",
            "  Downloading audinterface-1.1.0-py3-none-any.whl (66 kB)\n",
            "\u001b[2K     \u001b[90m━━━━━━━━━━━━━━━━━━━━━━━━━━━━━━━━━━━━━━━━\u001b[0m \u001b[32m66.3/66.3 kB\u001b[0m \u001b[31m7.4 MB/s\u001b[0m eta \u001b[36m0:00:00\u001b[0m\n",
            "\u001b[?25hCollecting audformat<2.0.0,>=1.0.1 (from audinterface>=0.7.0->opensmile)\n",
            "  Downloading audformat-1.1.0-py3-none-any.whl (142 kB)\n",
            "\u001b[2K     \u001b[90m━━━━━━━━━━━━━━━━━━━━━━━━━━━━━━━━━━━━━━━━\u001b[0m \u001b[32m142.1/142.1 kB\u001b[0m \u001b[31m13.3 MB/s\u001b[0m eta \u001b[36m0:00:00\u001b[0m\n",
            "\u001b[?25hCollecting audiofile>=1.3.0 (from audinterface>=0.7.0->opensmile)\n",
            "  Downloading audiofile-1.3.2-py3-none-any.whl (1.1 MB)\n",
            "\u001b[2K     \u001b[90m━━━━━━━━━━━━━━━━━━━━━━━━━━━━━━━━━━━━━━━━\u001b[0m \u001b[32m1.1/1.1 MB\u001b[0m \u001b[31m24.6 MB/s\u001b[0m eta \u001b[36m0:00:00\u001b[0m\n",
            "\u001b[?25hCollecting audmath>=1.3.0 (from audinterface>=0.7.0->opensmile)\n",
            "  Downloading audmath-1.4.0-py3-none-any.whl (23 kB)\n",
            "Collecting audresample<2.0.0,>=1.1.0 (from audinterface>=0.7.0->opensmile)\n",
            "  Downloading audresample-1.3.3-py3-none-manylinux_2_17_x86_64.whl (138 kB)\n",
            "\u001b[2K     \u001b[90m━━━━━━━━━━━━━━━━━━━━━━━━━━━━━━━━━━━━━━━━\u001b[0m \u001b[32m138.4/138.4 kB\u001b[0m \u001b[31m21.3 MB/s\u001b[0m eta \u001b[36m0:00:00\u001b[0m\n",
            "\u001b[?25hCollecting audeer>=1.18.0 (from audobject>=0.6.1->opensmile)\n",
            "  Downloading audeer-1.21.0-py3-none-any.whl (40 kB)\n",
            "\u001b[2K     \u001b[90m━━━━━━━━━━━━━━━━━━━━━━━━━━━━━━━━━━━━━━━━\u001b[0m \u001b[32m40.1/40.1 kB\u001b[0m \u001b[31m5.5 MB/s\u001b[0m eta \u001b[36m0:00:00\u001b[0m\n",
            "\u001b[?25hRequirement already satisfied: importlib-metadata>=4.8.0 in /usr/local/lib/python3.10/dist-packages (from audobject>=0.6.1->opensmile) (7.0.0)\n",
            "Collecting oyaml (from audobject>=0.6.1->opensmile)\n",
            "  Downloading oyaml-1.0-py2.py3-none-any.whl (3.0 kB)\n",
            "Requirement already satisfied: packaging in /usr/local/lib/python3.10/dist-packages (from audobject>=0.6.1->opensmile) (23.2)\n",
            "Requirement already satisfied: tqdm in /usr/local/lib/python3.10/dist-packages (from audeer>=1.18.0->audobject>=0.6.1->opensmile) (4.66.1)\n",
            "Collecting iso-639 (from audformat<2.0.0,>=1.0.1->audinterface>=0.7.0->opensmile)\n",
            "  Downloading iso-639-0.4.5.tar.gz (167 kB)\n",
            "\u001b[2K     \u001b[90m━━━━━━━━━━━━━━━━━━━━━━━━━━━━━━━━━━━━━━━━\u001b[0m \u001b[32m167.4/167.4 kB\u001b[0m \u001b[31m17.2 MB/s\u001b[0m eta \u001b[36m0:00:00\u001b[0m\n",
            "\u001b[?25h  Preparing metadata (setup.py) ... \u001b[?25l\u001b[?25hdone\n",
            "Collecting iso3166 (from audformat<2.0.0,>=1.0.1->audinterface>=0.7.0->opensmile)\n",
            "  Downloading iso3166-2.1.1-py3-none-any.whl (9.8 kB)\n",
            "Requirement already satisfied: pyyaml>=5.4.1 in /usr/local/lib/python3.10/dist-packages (from audformat<2.0.0,>=1.0.1->audinterface>=0.7.0->opensmile) (6.0.1)\n",
            "Requirement already satisfied: pandas>=1.4.1 in /usr/local/lib/python3.10/dist-packages (from audformat<2.0.0,>=1.0.1->audinterface>=0.7.0->opensmile) (1.5.3)\n",
            "Requirement already satisfied: numpy in /usr/local/lib/python3.10/dist-packages (from audiofile>=1.3.0->audinterface>=0.7.0->opensmile) (1.23.5)\n",
            "Requirement already satisfied: soundfile in /usr/local/lib/python3.10/dist-packages (from audiofile>=1.3.0->audinterface>=0.7.0->opensmile) (0.12.1)\n",
            "Requirement already satisfied: zipp>=0.5 in /usr/local/lib/python3.10/dist-packages (from importlib-metadata>=4.8.0->audobject>=0.6.1->opensmile) (3.17.0)\n",
            "Requirement already satisfied: python-dateutil>=2.8.1 in /usr/local/lib/python3.10/dist-packages (from pandas>=1.4.1->audformat<2.0.0,>=1.0.1->audinterface>=0.7.0->opensmile) (2.8.2)\n",
            "Requirement already satisfied: pytz>=2020.1 in /usr/local/lib/python3.10/dist-packages (from pandas>=1.4.1->audformat<2.0.0,>=1.0.1->audinterface>=0.7.0->opensmile) (2023.3.post1)\n",
            "Requirement already satisfied: cffi>=1.0 in /usr/local/lib/python3.10/dist-packages (from soundfile->audiofile>=1.3.0->audinterface>=0.7.0->opensmile) (1.16.0)\n",
            "Requirement already satisfied: pycparser in /usr/local/lib/python3.10/dist-packages (from cffi>=1.0->soundfile->audiofile>=1.3.0->audinterface>=0.7.0->opensmile) (2.21)\n",
            "Requirement already satisfied: six>=1.5 in /usr/local/lib/python3.10/dist-packages (from python-dateutil>=2.8.1->pandas>=1.4.1->audformat<2.0.0,>=1.0.1->audinterface>=0.7.0->opensmile) (1.16.0)\n",
            "Building wheels for collected packages: iso-639\n",
            "  Building wheel for iso-639 (setup.py) ... \u001b[?25l\u001b[?25hdone\n",
            "  Created wheel for iso-639: filename=iso_639-0.4.5-py3-none-any.whl size=168840 sha256=c93168c27a793946ea4fb21842227b28ce79610d43e6707b4f9a5374dd1de313\n",
            "  Stored in directory: /root/.cache/pip/wheels/d8/78/cc/5478ca3b1c3f602eae6f8cdbd78f909c0a0bfa0bbcb5c7771f\n",
            "Successfully built iso-639\n",
            "Installing collected packages: iso-639, oyaml, iso3166, audresample, audmath, audeer, audobject, audiofile, audformat, audinterface, opensmile\n",
            "Successfully installed audeer-1.21.0 audformat-1.1.0 audinterface-1.1.0 audiofile-1.3.2 audmath-1.4.0 audobject-0.7.11 audresample-1.3.3 iso-639-0.4.5 iso3166-2.1.1 opensmile-2.5.0 oyaml-1.0\n"
          ]
        }
      ]
    },
    {
      "cell_type": "code",
      "source": [
        "import os\n",
        "import opensmile\n",
        "import pandas as pd\n",
        "import concurrent.futures\n"
      ],
      "metadata": {
        "id": "11wAQYFdBKK6"
      },
      "execution_count": null,
      "outputs": []
    },
    {
      "cell_type": "code",
      "source": [
        "import opensmile\n",
        "\n",
        "# Initialize opensmile\n",
        "smile = opensmile.Smile(\n",
        "    feature_set=opensmile.FeatureSet.eGeMAPSv01a,\n",
        "    feature_level=opensmile.FeatureLevel.Functionals,\n",
        ")\n",
        "\n",
        "def extract_features(audio_path):\n",
        "    return smile.process_file(audio_path)\n",
        "\n"
      ],
      "metadata": {
        "colab": {
          "base_uri": "https://localhost:8080/"
        },
        "id": "iWtAJbg5GnTA",
        "outputId": "778aa62a-008d-467b-fead-ca9041625698"
      },
      "execution_count": null,
      "outputs": [
        {
          "output_type": "stream",
          "name": "stderr",
          "text": [
            "/usr/local/lib/python3.10/dist-packages/opensmile/core/smile.py:251: UserWarning: Feature set 'FeatureSet.eGeMAPS' is deprecated, consider switching to 'FeatureSet.eGeMAPSv02'.\n",
            "  warnings.warn(\n"
          ]
        }
      ]
    },
    {
      "cell_type": "code",
      "source": [
        "import os\n",
        "import opensmile\n",
        "import pandas as pd\n",
        "import concurrent.futures\n",
        "from tqdm import tqdm  # For progress bar\n",
        "\n",
        "# Initialize opensmile for feature extraction\n",
        "smile = opensmile.Smile(\n",
        "    feature_set=opensmile.FeatureSet.eGeMAPSv02,\n",
        "    feature_level=opensmile.FeatureLevel.Functionals,\n",
        ")\n",
        "\n",
        "# Function to extract eGeMAPS features from an audio file\n",
        "def extract_features(audio_path):\n",
        "    return smile.process_file(audio_path)\n",
        "\n",
        "# Function to process each file, checks the file format and extracts features\n",
        "# Function to process each file, checks the file format and extracts features\n",
        "def process_file(folder, file):\n",
        "    try:\n",
        "        if file.endswith('.wav') or file.endswith('.mp3'):\n",
        "            file_path = os.path.join(folder, file)\n",
        "            print(f\"Currently processing file: {file}\")\n",
        "            features = extract_features(file_path)\n",
        "            return file, features\n",
        "    except Exception as e:\n",
        "        print(f\"Error processing file {file}: {e}\")\n",
        "        return file, None\n",
        "\n",
        "\n",
        "# Paths to folders containing audio files\n",
        "folder_paths = [\n",
        "    '/content/drive/MyDrive/FYPRepository/PatientAudio/English',\n",
        "    '/content/drive/MyDrive/FYPRepository/PatientAudio/German',\n",
        "    '/content/drive/MyDrive/FYPRepository/PatientAudio/Greek',\n",
        "    # '/content/drive/MyDrive/FYPRepository/PatientAudio/Spanish'\n",
        "]\n",
        "\n",
        "# Dictionary to store the extracted features\n",
        "audio_features = {}\n",
        "\n",
        "# Parallel processing using ThreadPoolExecutor\n",
        "with concurrent.futures.ThreadPoolExecutor() as executor:\n",
        "    futures = []\n",
        "    for folder in folder_paths:\n",
        "        for file in os.listdir(folder):\n",
        "            futures.append(executor.submit(process_file, folder, file))\n",
        "\n",
        "    for future in tqdm(concurrent.futures.as_completed(futures), total=len(futures)):\n",
        "        file, features = future.result()\n",
        "        if features is not None:\n",
        "            audio_features[file] = features\n"
      ],
      "metadata": {
        "colab": {
          "base_uri": "https://localhost:8080/"
        },
        "id": "eGTzL_sQHmDy",
        "outputId": "426a733b-ce97-4f0a-dcb2-abfb5f829460"
      },
      "execution_count": null,
      "outputs": [
        {
          "output_type": "stream",
          "name": "stdout",
          "text": [
            "Currently processing file: S154.wav\n",
            "Currently processing file: S156.wav\n",
            "Currently processing file: S153.wav\n",
            "Currently processing file: S151.wav\n",
            "Currently processing file: S150.wav\n",
            "Currently processing file: S149.wav\n",
            "Currently processing file: S144.wav\n",
            "Currently processing file: S139.wav\n",
            "Currently processing file: S138.wav\n",
            "Currently processing file: S142.wav\n",
            "Currently processing file: S143.wav\n",
            "Currently processing file: S148.wav\n"
          ]
        },
        {
          "output_type": "stream",
          "name": "stderr",
          "text": [
            "  0%|          | 1/366 [00:01<08:44,  1.44s/it]"
          ]
        },
        {
          "output_type": "stream",
          "name": "stdout",
          "text": [
            "Currently processing file: S141.wav\n"
          ]
        },
        {
          "output_type": "stream",
          "name": "stderr",
          "text": [
            "\r  1%|          | 2/366 [00:02<08:26,  1.39s/it]"
          ]
        },
        {
          "output_type": "stream",
          "name": "stdout",
          "text": [
            "Currently processing file: S145.wav\n",
            "Currently processing file: S126.wav\n"
          ]
        },
        {
          "output_type": "stream",
          "name": "stderr",
          "text": [
            "\r  1%|          | 4/366 [00:03<03:47,  1.59it/s]"
          ]
        },
        {
          "output_type": "stream",
          "name": "stdout",
          "text": [
            "Currently processing file: S128.wav\n"
          ]
        },
        {
          "output_type": "stream",
          "name": "stderr",
          "text": [
            "\r  1%|▏         | 5/366 [00:03<03:40,  1.64it/s]"
          ]
        },
        {
          "output_type": "stream",
          "name": "stdout",
          "text": [
            "Currently processing file: S132.wav\n"
          ]
        },
        {
          "output_type": "stream",
          "name": "stderr",
          "text": [
            "\r  2%|▏         | 6/366 [00:03<02:55,  2.05it/s]"
          ]
        },
        {
          "output_type": "stream",
          "name": "stdout",
          "text": [
            "Currently processing file: S125.wav\n"
          ]
        },
        {
          "output_type": "stream",
          "name": "stderr",
          "text": [
            "\r  2%|▏         | 7/366 [00:04<02:26,  2.46it/s]"
          ]
        },
        {
          "output_type": "stream",
          "name": "stdout",
          "text": [
            "Currently processing file: S129.wavCurrently processing file: S136.wav\n",
            "\n"
          ]
        },
        {
          "output_type": "stream",
          "name": "stderr",
          "text": [
            "\r  2%|▏         | 9/366 [00:04<02:27,  2.42it/s]"
          ]
        },
        {
          "output_type": "stream",
          "name": "stdout",
          "text": [
            "Currently processing file: S127.wav\n"
          ]
        },
        {
          "output_type": "stream",
          "name": "stderr",
          "text": [
            "\r  3%|▎         | 10/366 [00:06<03:37,  1.63it/s]"
          ]
        },
        {
          "output_type": "stream",
          "name": "stdout",
          "text": [
            "Currently processing file: S130.wav\n"
          ]
        },
        {
          "output_type": "stream",
          "name": "stderr",
          "text": [
            "\r  3%|▎         | 11/366 [00:06<03:03,  1.93it/s]"
          ]
        },
        {
          "output_type": "stream",
          "name": "stdout",
          "text": [
            "Currently processing file: S137.wav\n"
          ]
        },
        {
          "output_type": "stream",
          "name": "stderr",
          "text": [
            "\r  3%|▎         | 12/366 [00:09<06:48,  1.15s/it]"
          ]
        },
        {
          "output_type": "stream",
          "name": "stdout",
          "text": [
            "Currently processing file: S135.wav\n"
          ]
        },
        {
          "output_type": "stream",
          "name": "stderr",
          "text": [
            "\r  4%|▎         | 13/366 [00:11<08:11,  1.39s/it]"
          ]
        },
        {
          "output_type": "stream",
          "name": "stdout",
          "text": [
            "Currently processing file: S111.wav\n"
          ]
        },
        {
          "output_type": "stream",
          "name": "stderr",
          "text": [
            "\r  4%|▍         | 14/366 [00:11<06:27,  1.10s/it]"
          ]
        },
        {
          "output_type": "stream",
          "name": "stdout",
          "text": [
            "Currently processing file: S110.wav\n"
          ]
        },
        {
          "output_type": "stream",
          "name": "stderr",
          "text": [
            "\r  4%|▍         | 15/366 [00:13<08:02,  1.37s/it]"
          ]
        },
        {
          "output_type": "stream",
          "name": "stdout",
          "text": [
            "Currently processing file: S114.wav\n"
          ]
        },
        {
          "output_type": "stream",
          "name": "stderr",
          "text": [
            "  5%|▍         | 17/366 [00:15<05:49,  1.00s/it]"
          ]
        },
        {
          "output_type": "stream",
          "name": "stdout",
          "text": [
            "Currently processing file: S118.wav\n",
            "Currently processing file: S108.wav\n"
          ]
        },
        {
          "output_type": "stream",
          "name": "stderr",
          "text": [
            "\r  5%|▍         | 18/366 [00:16<05:36,  1.04it/s]"
          ]
        },
        {
          "output_type": "stream",
          "name": "stdout",
          "text": [
            "Currently processing file: S107.wav\n"
          ]
        },
        {
          "output_type": "stream",
          "name": "stderr",
          "text": [
            "\r  5%|▌         | 19/366 [00:16<04:36,  1.25it/s]"
          ]
        },
        {
          "output_type": "stream",
          "name": "stdout",
          "text": [
            "Currently processing file: S124.wav\n"
          ]
        },
        {
          "output_type": "stream",
          "name": "stderr",
          "text": [
            "\r  5%|▌         | 20/366 [00:16<03:47,  1.52it/s]"
          ]
        },
        {
          "output_type": "stream",
          "name": "stdout",
          "text": [
            "Currently processing file: S122.wav\n",
            "Currently processing file: S104.wav\n"
          ]
        },
        {
          "output_type": "stream",
          "name": "stderr",
          "text": [
            "  6%|▋         | 23/366 [00:17<02:38,  2.16it/s]"
          ]
        },
        {
          "output_type": "stream",
          "name": "stdout",
          "text": [
            "Currently processing file: S116.wav\n",
            "Currently processing file: S093.wav\n",
            "Currently processing file: S096.wav\n"
          ]
        },
        {
          "output_type": "stream",
          "name": "stderr",
          "text": [
            "\r  7%|▋         | 25/366 [00:18<02:50,  2.00it/s]"
          ]
        },
        {
          "output_type": "stream",
          "name": "stdout",
          "text": [
            "Currently processing file: S092.wav\n"
          ]
        },
        {
          "output_type": "stream",
          "name": "stderr",
          "text": [
            "\r  7%|▋         | 26/366 [00:19<02:39,  2.14it/s]"
          ]
        },
        {
          "output_type": "stream",
          "name": "stdout",
          "text": [
            "Currently processing file: S094.wav\n"
          ]
        },
        {
          "output_type": "stream",
          "name": "stderr",
          "text": [
            "\r  7%|▋         | 27/366 [00:19<02:35,  2.18it/s]"
          ]
        },
        {
          "output_type": "stream",
          "name": "stdout",
          "text": [
            "Currently processing file: S095.wav\n"
          ]
        },
        {
          "output_type": "stream",
          "name": "stderr",
          "text": [
            "\r  8%|▊         | 28/366 [00:20<03:22,  1.67it/s]"
          ]
        },
        {
          "output_type": "stream",
          "name": "stdout",
          "text": [
            "Currently processing file: S100.wav\n"
          ]
        },
        {
          "output_type": "stream",
          "name": "stderr",
          "text": [
            "\r  8%|▊         | 29/366 [00:21<03:00,  1.87it/s]"
          ]
        },
        {
          "output_type": "stream",
          "name": "stdout",
          "text": [
            "Currently processing file: S103.wav\n"
          ]
        },
        {
          "output_type": "stream",
          "name": "stderr",
          "text": [
            "\r  8%|▊         | 30/366 [00:21<03:06,  1.80it/s]"
          ]
        },
        {
          "output_type": "stream",
          "name": "stdout",
          "text": [
            "Currently processing file: S090.wav\n"
          ]
        },
        {
          "output_type": "stream",
          "name": "stderr",
          "text": [
            "\r  8%|▊         | 31/366 [00:22<02:58,  1.87it/s]"
          ]
        },
        {
          "output_type": "stream",
          "name": "stdout",
          "text": [
            "Currently processing file: S101.wav\n"
          ]
        },
        {
          "output_type": "stream",
          "name": "stderr",
          "text": [
            "\r  9%|▊         | 32/366 [00:22<02:53,  1.93it/s]"
          ]
        },
        {
          "output_type": "stream",
          "name": "stdout",
          "text": [
            "Currently processing file: S097.wav\n"
          ]
        },
        {
          "output_type": "stream",
          "name": "stderr",
          "text": [
            "\r  9%|▉         | 33/366 [00:23<03:48,  1.46it/s]"
          ]
        },
        {
          "output_type": "stream",
          "name": "stdout",
          "text": [
            "Currently processing file: S086.wav\n"
          ]
        },
        {
          "output_type": "stream",
          "name": "stderr",
          "text": [
            " 10%|▉         | 35/366 [00:25<04:00,  1.38it/s]"
          ]
        },
        {
          "output_type": "stream",
          "name": "stdout",
          "text": [
            "Currently processing file: S087.wav\n",
            "Currently processing file: S079.wav\n",
            "Currently processing file: S084.wav\n"
          ]
        },
        {
          "output_type": "stream",
          "name": "stderr",
          "text": [
            "\r 10%|█         | 37/366 [00:25<02:39,  2.06it/s]"
          ]
        },
        {
          "output_type": "stream",
          "name": "stdout",
          "text": [
            "Currently processing file: S083.wav\n"
          ]
        },
        {
          "output_type": "stream",
          "name": "stderr",
          "text": [
            "\r 10%|█         | 38/366 [00:26<03:05,  1.77it/s]"
          ]
        },
        {
          "output_type": "stream",
          "name": "stdout",
          "text": [
            "Currently processing file: S081.wav\n"
          ]
        },
        {
          "output_type": "stream",
          "name": "stderr",
          "text": [
            "\r 11%|█         | 39/366 [00:27<02:56,  1.85it/s]"
          ]
        },
        {
          "output_type": "stream",
          "name": "stdout",
          "text": [
            "Currently processing file: S140.wav\n"
          ]
        },
        {
          "output_type": "stream",
          "name": "stderr",
          "text": [
            "\r 11%|█         | 40/366 [00:28<04:26,  1.22it/s]"
          ]
        },
        {
          "output_type": "stream",
          "name": "stdout",
          "text": [
            "Currently processing file: S082.wav\n"
          ]
        },
        {
          "output_type": "stream",
          "name": "stderr",
          "text": [
            "\r 11%|█         | 41/366 [00:29<03:55,  1.38it/s]"
          ]
        },
        {
          "output_type": "stream",
          "name": "stdout",
          "text": [
            "Currently processing file: S089.wav\n"
          ]
        },
        {
          "output_type": "stream",
          "name": "stderr",
          "text": [
            "\r 11%|█▏        | 42/366 [00:30<04:40,  1.15it/s]"
          ]
        },
        {
          "output_type": "stream",
          "name": "stdout",
          "text": [
            "Currently processing file: S080.wav\n",
            "Currently processing file: S073.wav\n"
          ]
        },
        {
          "output_type": "stream",
          "name": "stderr",
          "text": [
            "\r 12%|█▏        | 44/366 [00:32<04:37,  1.16it/s]"
          ]
        },
        {
          "output_type": "stream",
          "name": "stdout",
          "text": [
            "Currently processing file: S072.wav\n"
          ]
        },
        {
          "output_type": "stream",
          "name": "stderr",
          "text": [
            "\r 12%|█▏        | 45/366 [00:32<04:03,  1.32it/s]"
          ]
        },
        {
          "output_type": "stream",
          "name": "stdout",
          "text": [
            "Currently processing file: S076.wav\n"
          ]
        },
        {
          "output_type": "stream",
          "name": "stderr",
          "text": [
            "\r 13%|█▎        | 46/366 [00:32<03:17,  1.62it/s]"
          ]
        },
        {
          "output_type": "stream",
          "name": "stdout",
          "text": [
            "Currently processing file: S077.wav\n"
          ]
        },
        {
          "output_type": "stream",
          "name": "stderr",
          "text": [
            "\r 13%|█▎        | 47/366 [00:33<03:16,  1.62it/s]"
          ]
        },
        {
          "output_type": "stream",
          "name": "stdout",
          "text": [
            "Currently processing file: S058.wavCurrently processing file: S062.wav\n",
            "\n",
            "Currently processing file: S063.wav\n",
            "Currently processing file: S070.wav\n"
          ]
        },
        {
          "output_type": "stream",
          "name": "stderr",
          "text": [
            "\r 14%|█▍        | 51/366 [00:33<01:32,  3.42it/s]"
          ]
        },
        {
          "output_type": "stream",
          "name": "stdout",
          "text": [
            "Currently processing file: S064.wav\n"
          ]
        },
        {
          "output_type": "stream",
          "name": "stderr",
          "text": [
            "\r 14%|█▍        | 52/366 [00:34<01:45,  2.97it/s]"
          ]
        },
        {
          "output_type": "stream",
          "name": "stdout",
          "text": [
            "Currently processing file: S056.wav\n"
          ]
        },
        {
          "output_type": "stream",
          "name": "stderr",
          "text": [
            "\r 14%|█▍        | 53/366 [00:34<01:49,  2.87it/s]"
          ]
        },
        {
          "output_type": "stream",
          "name": "stdout",
          "text": [
            "Currently processing file: S061.wav\n"
          ]
        },
        {
          "output_type": "stream",
          "name": "stderr",
          "text": [
            "\r 15%|█▍        | 54/366 [00:35<01:43,  3.00it/s]"
          ]
        },
        {
          "output_type": "stream",
          "name": "stdout",
          "text": [
            "Currently processing file: S059.wav\n"
          ]
        },
        {
          "output_type": "stream",
          "name": "stderr",
          "text": [
            " 15%|█▌        | 56/366 [00:35<01:31,  3.38it/s]"
          ]
        },
        {
          "output_type": "stream",
          "name": "stdout",
          "text": [
            "Currently processing file: S067.wav\n",
            "Currently processing file: S068.wav\n"
          ]
        },
        {
          "output_type": "stream",
          "name": "stderr",
          "text": [
            "\r 16%|█▌        | 57/366 [00:35<01:45,  2.94it/s]"
          ]
        },
        {
          "output_type": "stream",
          "name": "stdout",
          "text": [
            "Currently processing file: S039.wavCurrently processing file: S041.wav\n",
            "\n"
          ]
        },
        {
          "output_type": "stream",
          "name": "stderr",
          "text": [
            "\r 16%|█▌        | 59/366 [00:36<01:19,  3.88it/s]"
          ]
        },
        {
          "output_type": "stream",
          "name": "stdout",
          "text": [
            "Currently processing file: S055.wav\n"
          ]
        },
        {
          "output_type": "stream",
          "name": "stderr",
          "text": [
            "\r 16%|█▋        | 60/366 [00:37<02:42,  1.89it/s]"
          ]
        },
        {
          "output_type": "stream",
          "name": "stdout",
          "text": [
            "Currently processing file: S038.wav\n"
          ]
        },
        {
          "output_type": "stream",
          "name": "stderr",
          "text": [
            " 17%|█▋        | 62/366 [00:38<01:55,  2.62it/s]"
          ]
        },
        {
          "output_type": "stream",
          "name": "stdout",
          "text": [
            "Currently processing file: S052.wav\n",
            "Currently processing file: S051.wav\n"
          ]
        },
        {
          "output_type": "stream",
          "name": "stderr",
          "text": [
            "\r 17%|█▋        | 63/366 [00:38<01:59,  2.54it/s]"
          ]
        },
        {
          "output_type": "stream",
          "name": "stdout",
          "text": [
            "Currently processing file: S048.wav\n"
          ]
        },
        {
          "output_type": "stream",
          "name": "stderr",
          "text": [
            "\r 17%|█▋        | 64/366 [00:39<02:06,  2.40it/s]"
          ]
        },
        {
          "output_type": "stream",
          "name": "stdout",
          "text": [
            "Currently processing file: S043.wav\n"
          ]
        },
        {
          "output_type": "stream",
          "name": "stderr",
          "text": [
            "\r 18%|█▊        | 65/366 [00:40<03:41,  1.36it/s]"
          ]
        },
        {
          "output_type": "stream",
          "name": "stdout",
          "text": [
            "Currently processing file: S040.wav\n"
          ]
        },
        {
          "output_type": "stream",
          "name": "stderr",
          "text": [
            "\r 18%|█▊        | 66/366 [00:40<03:08,  1.59it/s]"
          ]
        },
        {
          "output_type": "stream",
          "name": "stdout",
          "text": [
            "Currently processing file: S049.wav\n"
          ]
        },
        {
          "output_type": "stream",
          "name": "stderr",
          "text": [
            "\r 18%|█▊        | 67/366 [00:41<03:13,  1.55it/s]"
          ]
        },
        {
          "output_type": "stream",
          "name": "stdout",
          "text": [
            "Currently processing file: S033.wav\n"
          ]
        },
        {
          "output_type": "stream",
          "name": "stderr",
          "text": [
            "\r 19%|█▊        | 68/366 [00:42<03:50,  1.29it/s]"
          ]
        },
        {
          "output_type": "stream",
          "name": "stdout",
          "text": [
            "Currently processing file: S030.wav\n"
          ]
        },
        {
          "output_type": "stream",
          "name": "stderr",
          "text": [
            "\r 19%|█▉        | 69/366 [00:43<03:35,  1.38it/s]"
          ]
        },
        {
          "output_type": "stream",
          "name": "stdout",
          "text": [
            "Currently processing file: S025.wav\n"
          ]
        },
        {
          "output_type": "stream",
          "name": "stderr",
          "text": [
            "\r 19%|█▉        | 70/366 [00:43<03:18,  1.49it/s]"
          ]
        },
        {
          "output_type": "stream",
          "name": "stdout",
          "text": [
            "Currently processing file: S028.wav\n"
          ]
        },
        {
          "output_type": "stream",
          "name": "stderr",
          "text": [
            "\r 19%|█▉        | 71/366 [00:44<03:36,  1.36it/s]"
          ]
        },
        {
          "output_type": "stream",
          "name": "stdout",
          "text": [
            "Currently processing file: S035.wav\n"
          ]
        },
        {
          "output_type": "stream",
          "name": "stderr",
          "text": [
            "\r 20%|█▉        | 72/366 [00:44<02:53,  1.70it/s]"
          ]
        },
        {
          "output_type": "stream",
          "name": "stdout",
          "text": [
            "Currently processing file: S032.wav\n"
          ]
        },
        {
          "output_type": "stream",
          "name": "stderr",
          "text": [
            " 20%|██        | 75/366 [00:45<01:33,  3.11it/s]"
          ]
        },
        {
          "output_type": "stream",
          "name": "stdout",
          "text": [
            "Currently processing file: S027.wav\n",
            "Currently processing file: S036.wav\n",
            "Currently processing file: S034.wav\n"
          ]
        },
        {
          "output_type": "stream",
          "name": "stderr",
          "text": [
            "\r 21%|██        | 76/366 [00:45<01:21,  3.54it/s]"
          ]
        },
        {
          "output_type": "stream",
          "name": "stdout",
          "text": [
            "Currently processing file: S029.wav\n"
          ]
        },
        {
          "output_type": "stream",
          "name": "stderr",
          "text": [
            "\r 21%|██        | 77/366 [00:46<02:03,  2.35it/s]"
          ]
        },
        {
          "output_type": "stream",
          "name": "stdout",
          "text": [
            "Currently processing file: S021.wav\n"
          ]
        },
        {
          "output_type": "stream",
          "name": "stderr",
          "text": [
            "\r 21%|██▏       | 78/366 [00:47<02:11,  2.20it/s]"
          ]
        },
        {
          "output_type": "stream",
          "name": "stdout",
          "text": [
            "Currently processing file: S019.wav\n"
          ]
        },
        {
          "output_type": "stream",
          "name": "stderr",
          "text": [
            " 22%|██▏       | 80/366 [00:47<01:49,  2.61it/s]"
          ]
        },
        {
          "output_type": "stream",
          "name": "stdout",
          "text": [
            "Currently processing file: S015.wav\n",
            "Currently processing file: S012.wav\n"
          ]
        },
        {
          "output_type": "stream",
          "name": "stderr",
          "text": [
            "\r 22%|██▏       | 81/366 [00:47<01:30,  3.15it/s]"
          ]
        },
        {
          "output_type": "stream",
          "name": "stdout",
          "text": [
            "Currently processing file: S016.wav\n"
          ]
        },
        {
          "output_type": "stream",
          "name": "stderr",
          "text": [
            "\r 22%|██▏       | 82/366 [00:48<01:32,  3.09it/s]"
          ]
        },
        {
          "output_type": "stream",
          "name": "stdout",
          "text": [
            "Currently processing file: S018.wav\n"
          ]
        },
        {
          "output_type": "stream",
          "name": "stderr",
          "text": [
            " 23%|██▎       | 84/366 [00:48<01:27,  3.21it/s]"
          ]
        },
        {
          "output_type": "stream",
          "name": "stdout",
          "text": [
            "Currently processing file: S013.wav\n",
            "Currently processing file: S020.wav\n"
          ]
        },
        {
          "output_type": "stream",
          "name": "stderr",
          "text": [
            "\r 23%|██▎       | 85/366 [00:49<01:35,  2.95it/s]"
          ]
        },
        {
          "output_type": "stream",
          "name": "stdout",
          "text": [
            "Currently processing file: S017.wav\n"
          ]
        },
        {
          "output_type": "stream",
          "name": "stderr",
          "text": [
            "\r 23%|██▎       | 86/366 [00:49<01:35,  2.92it/s]"
          ]
        },
        {
          "output_type": "stream",
          "name": "stdout",
          "text": [
            "Currently processing file: S024.wav\n",
            "Currently processing file: S005.wav\n"
          ]
        },
        {
          "output_type": "stream",
          "name": "stderr",
          "text": [
            " 24%|██▍       | 89/366 [00:50<01:27,  3.16it/s]"
          ]
        },
        {
          "output_type": "stream",
          "name": "stdout",
          "text": [
            "Currently processing file: S002.wav\n",
            "Currently processing file: S007.wav\n"
          ]
        },
        {
          "output_type": "stream",
          "name": "stderr",
          "text": [
            "\r 25%|██▍       | 90/366 [00:50<01:14,  3.70it/s]"
          ]
        },
        {
          "output_type": "stream",
          "name": "stdout",
          "text": [
            "Currently processing file: S003.wav\n"
          ]
        },
        {
          "output_type": "stream",
          "name": "stderr",
          "text": [
            "\r 25%|██▍       | 91/366 [00:51<02:20,  1.96it/s]"
          ]
        },
        {
          "output_type": "stream",
          "name": "stdout",
          "text": [
            "Currently processing file: S009.wavCurrently processing file: S001.wav\n",
            "\n"
          ]
        },
        {
          "output_type": "stream",
          "name": "stderr",
          "text": [
            "\r 25%|██▌       | 93/366 [00:52<02:06,  2.17it/s]"
          ]
        },
        {
          "output_type": "stream",
          "name": "stdout",
          "text": [
            "Currently processing file: S011.wavCurrently processing file: S006.wav\n",
            "\n",
            "Currently processing file: S004.wav\n",
            "Currently processing file: S071.wav\n"
          ]
        },
        {
          "output_type": "stream",
          "name": "stderr",
          "text": [
            "\r 27%|██▋       | 97/366 [00:53<01:11,  3.77it/s]"
          ]
        },
        {
          "output_type": "stream",
          "name": "stdout",
          "text": [
            "Currently processing file: adrso004.wav\n"
          ]
        },
        {
          "output_type": "stream",
          "name": "stderr",
          "text": [
            "\r 27%|██▋       | 98/366 [00:54<01:56,  2.31it/s]"
          ]
        },
        {
          "output_type": "stream",
          "name": "stdout",
          "text": [
            "Currently processing file: adrso009.wav\n"
          ]
        },
        {
          "output_type": "stream",
          "name": "stderr",
          "text": [
            "\r 27%|██▋       | 99/366 [00:54<01:45,  2.53it/s]"
          ]
        },
        {
          "output_type": "stream",
          "name": "stdout",
          "text": [
            "Currently processing file: adrso003.wav\n",
            "Currently processing file: adrso007.wav\n"
          ]
        },
        {
          "output_type": "stream",
          "name": "stderr",
          "text": [
            "\r 28%|██▊       | 101/366 [00:55<01:40,  2.63it/s]"
          ]
        },
        {
          "output_type": "stream",
          "name": "stdout",
          "text": [
            "Currently processing file: adrso002.wav\n"
          ]
        },
        {
          "output_type": "stream",
          "name": "stderr",
          "text": [
            "\r 28%|██▊       | 102/366 [00:55<01:36,  2.74it/s]"
          ]
        },
        {
          "output_type": "stream",
          "name": "stdout",
          "text": [
            "Currently processing file: adrso008.wav\n"
          ]
        },
        {
          "output_type": "stream",
          "name": "stderr",
          "text": [
            "\r 28%|██▊       | 103/366 [00:56<01:47,  2.44it/s]"
          ]
        },
        {
          "output_type": "stream",
          "name": "stdout",
          "text": [
            "Currently processing file: adrso006.wav\n"
          ]
        },
        {
          "output_type": "stream",
          "name": "stderr",
          "text": [
            "\r 28%|██▊       | 104/366 [00:57<02:20,  1.86it/s]"
          ]
        },
        {
          "output_type": "stream",
          "name": "stdout",
          "text": [
            "Currently processing file: adrso005.wav\n"
          ]
        },
        {
          "output_type": "stream",
          "name": "stderr",
          "text": [
            "\r 29%|██▊       | 105/366 [00:57<02:26,  1.78it/s]"
          ]
        },
        {
          "output_type": "stream",
          "name": "stdout",
          "text": [
            "Currently processing file: adrso011.wav\n"
          ]
        },
        {
          "output_type": "stream",
          "name": "stderr",
          "text": [
            " 29%|██▉       | 107/366 [00:58<02:15,  1.92it/s]"
          ]
        },
        {
          "output_type": "stream",
          "name": "stdout",
          "text": [
            "Currently processing file: adrso013.wav\n",
            "Currently processing file: adrso017.wav\n"
          ]
        },
        {
          "output_type": "stream",
          "name": "stderr",
          "text": [
            "\r 30%|██▉       | 108/366 [00:59<02:04,  2.08it/s]"
          ]
        },
        {
          "output_type": "stream",
          "name": "stdout",
          "text": [
            "Currently processing file: adrso016.wav\n",
            "Currently processing file: adrso010.wav\n"
          ]
        },
        {
          "output_type": "stream",
          "name": "stderr",
          "text": [
            "\r 30%|███       | 110/366 [00:59<01:26,  2.97it/s]"
          ]
        },
        {
          "output_type": "stream",
          "name": "stdout",
          "text": [
            "Currently processing file: adrso012.wav\n"
          ]
        },
        {
          "output_type": "stream",
          "name": "stderr",
          "text": [
            " 31%|███       | 113/366 [01:01<01:36,  2.63it/s]"
          ]
        },
        {
          "output_type": "stream",
          "name": "stdout",
          "text": [
            "Currently processing file: adrso019.wav\n",
            "Currently processing file: adrso014.wav\n",
            "Currently processing file: adrso015.wav"
          ]
        },
        {
          "output_type": "stream",
          "name": "stderr",
          "text": [
            "\r 31%|███       | 114/366 [01:01<01:25,  2.94it/s]"
          ]
        },
        {
          "output_type": "stream",
          "name": "stdout",
          "text": [
            "\n",
            "Currently processing file: adrso018.wav\n"
          ]
        },
        {
          "output_type": "stream",
          "name": "stderr",
          "text": [
            "\r 31%|███▏      | 115/366 [01:01<01:18,  3.19it/s]"
          ]
        },
        {
          "output_type": "stream",
          "name": "stdout",
          "text": [
            "Currently processing file: adrso023.wav\n"
          ]
        },
        {
          "output_type": "stream",
          "name": "stderr",
          "text": [
            " 32%|███▏      | 117/366 [01:02<01:28,  2.82it/s]"
          ]
        },
        {
          "output_type": "stream",
          "name": "stdout",
          "text": [
            "Currently processing file: adrso028.wav\n",
            "Currently processing file: adrso020.wav\n"
          ]
        },
        {
          "output_type": "stream",
          "name": "stderr",
          "text": [
            "\r 32%|███▏      | 118/366 [01:02<01:39,  2.50it/s]"
          ]
        },
        {
          "output_type": "stream",
          "name": "stdout",
          "text": [
            "Currently processing file: adrso029.wav\n"
          ]
        },
        {
          "output_type": "stream",
          "name": "stderr",
          "text": [
            "\r 33%|███▎      | 119/366 [01:03<01:59,  2.07it/s]"
          ]
        },
        {
          "output_type": "stream",
          "name": "stdout",
          "text": [
            "Currently processing file: adrso031.wav\n",
            "Currently processing file: adrso024.wav\n"
          ]
        },
        {
          "output_type": "stream",
          "name": "stderr",
          "text": [
            "\r 33%|███▎      | 121/366 [01:04<01:43,  2.38it/s]"
          ]
        },
        {
          "output_type": "stream",
          "name": "stdout",
          "text": [
            "Currently processing file: adrso025.wav\n"
          ]
        },
        {
          "output_type": "stream",
          "name": "stderr",
          "text": [
            "\r 33%|███▎      | 122/366 [01:05<02:21,  1.73it/s]"
          ]
        },
        {
          "output_type": "stream",
          "name": "stdout",
          "text": [
            "Currently processing file: adrso021.wav\n"
          ]
        },
        {
          "output_type": "stream",
          "name": "stderr",
          "text": [
            "\r 34%|███▎      | 123/366 [01:05<02:10,  1.86it/s]"
          ]
        },
        {
          "output_type": "stream",
          "name": "stdout",
          "text": [
            "Currently processing file: adrso027.wav\n"
          ]
        },
        {
          "output_type": "stream",
          "name": "stderr",
          "text": [
            "\r 34%|███▍      | 124/366 [01:06<01:51,  2.17it/s]"
          ]
        },
        {
          "output_type": "stream",
          "name": "stdout",
          "text": [
            "Currently processing file: adrso022.wav\n"
          ]
        },
        {
          "output_type": "stream",
          "name": "stderr",
          "text": [
            "\r 34%|███▍      | 125/366 [01:06<02:04,  1.93it/s]"
          ]
        },
        {
          "output_type": "stream",
          "name": "stdout",
          "text": [
            "Currently processing file: adrso036.wav\n"
          ]
        },
        {
          "output_type": "stream",
          "name": "stderr",
          "text": [
            " 35%|███▍      | 128/366 [01:07<01:14,  3.19it/s]"
          ]
        },
        {
          "output_type": "stream",
          "name": "stdout",
          "text": [
            "Currently processing file: adrso035.wavCurrently processing file: adrso032.wav\n",
            "\n",
            "Currently processing file: adrso043.wav\n"
          ]
        },
        {
          "output_type": "stream",
          "name": "stderr",
          "text": [
            "\r 35%|███▌      | 129/366 [01:08<01:45,  2.24it/s]"
          ]
        },
        {
          "output_type": "stream",
          "name": "stdout",
          "text": [
            "Currently processing file: adrso039.wav\n"
          ]
        },
        {
          "output_type": "stream",
          "name": "stderr",
          "text": [
            "\r 36%|███▌      | 130/366 [01:08<01:39,  2.36it/s]"
          ]
        },
        {
          "output_type": "stream",
          "name": "stdout",
          "text": [
            "Currently processing file: adrso042.wav\n",
            "Currently processing file: adrso037.wav\n"
          ]
        },
        {
          "output_type": "stream",
          "name": "stderr",
          "text": [
            "\r 36%|███▌      | 132/366 [01:09<01:27,  2.68it/s]"
          ]
        },
        {
          "output_type": "stream",
          "name": "stdout",
          "text": [
            "Currently processing file: adrso033.wav\n"
          ]
        },
        {
          "output_type": "stream",
          "name": "stderr",
          "text": [
            "\r 36%|███▋      | 133/366 [01:10<02:27,  1.58it/s]"
          ]
        },
        {
          "output_type": "stream",
          "name": "stdout",
          "text": [
            "Currently processing file: adrso038.wav\n"
          ]
        },
        {
          "output_type": "stream",
          "name": "stderr",
          "text": [
            " 37%|███▋      | 135/366 [01:12<02:21,  1.64it/s]"
          ]
        },
        {
          "output_type": "stream",
          "name": "stdout",
          "text": [
            "Currently processing file: adrso041.wav\n",
            "Currently processing file: adrso047.wav\n"
          ]
        },
        {
          "output_type": "stream",
          "name": "stderr",
          "text": [
            "\r 37%|███▋      | 136/366 [01:12<02:14,  1.71it/s]"
          ]
        },
        {
          "output_type": "stream",
          "name": "stdout",
          "text": [
            "Currently processing file: adrso054.wav\n"
          ]
        },
        {
          "output_type": "stream",
          "name": "stderr",
          "text": [
            " 38%|███▊      | 138/366 [01:13<01:31,  2.50it/s]"
          ]
        },
        {
          "output_type": "stream",
          "name": "stdout",
          "text": [
            "Currently processing file: adrso045.wav\n",
            "Currently processing file: adrso044.wav\n"
          ]
        },
        {
          "output_type": "stream",
          "name": "stderr",
          "text": [
            "\r 38%|███▊      | 139/366 [01:13<01:29,  2.54it/s]"
          ]
        },
        {
          "output_type": "stream",
          "name": "stdout",
          "text": [
            "Currently processing file: adrso046.wav\n"
          ]
        },
        {
          "output_type": "stream",
          "name": "stderr",
          "text": [
            "\r 38%|███▊      | 140/366 [01:13<01:37,  2.31it/s]"
          ]
        },
        {
          "output_type": "stream",
          "name": "stdout",
          "text": [
            "Currently processing file: adrso049.wav\n"
          ]
        },
        {
          "output_type": "stream",
          "name": "stderr",
          "text": [
            "\r 39%|███▊      | 141/366 [01:14<01:42,  2.19it/s]"
          ]
        },
        {
          "output_type": "stream",
          "name": "stdout",
          "text": [
            "Currently processing file: adrso052.wav\n"
          ]
        },
        {
          "output_type": "stream",
          "name": "stderr",
          "text": [
            "\r 39%|███▉      | 142/366 [01:15<02:40,  1.40it/s]"
          ]
        },
        {
          "output_type": "stream",
          "name": "stdout",
          "text": [
            "Currently processing file: adrso053.wav\n"
          ]
        },
        {
          "output_type": "stream",
          "name": "stderr",
          "text": [
            "\r 39%|███▉      | 143/366 [01:16<02:15,  1.64it/s]"
          ]
        },
        {
          "output_type": "stream",
          "name": "stdout",
          "text": [
            "Currently processing file: adrso056.wav\n"
          ]
        },
        {
          "output_type": "stream",
          "name": "stderr",
          "text": [
            "\r 39%|███▉      | 144/366 [01:16<02:22,  1.55it/s]"
          ]
        },
        {
          "output_type": "stream",
          "name": "stdout",
          "text": [
            "Currently processing file: adrso055.wav\n"
          ]
        },
        {
          "output_type": "stream",
          "name": "stderr",
          "text": [
            "\r 40%|███▉      | 145/366 [01:17<02:06,  1.75it/s]"
          ]
        },
        {
          "output_type": "stream",
          "name": "stdout",
          "text": [
            "Currently processing file: adrso060.wav\n"
          ]
        },
        {
          "output_type": "stream",
          "name": "stderr",
          "text": [
            "\r 40%|███▉      | 146/366 [01:20<05:04,  1.38s/it]"
          ]
        },
        {
          "output_type": "stream",
          "name": "stdout",
          "text": [
            "Currently processing file: adrso059.wav\n"
          ]
        },
        {
          "output_type": "stream",
          "name": "stderr",
          "text": [
            "\r 40%|████      | 147/366 [01:20<03:48,  1.04s/it]"
          ]
        },
        {
          "output_type": "stream",
          "name": "stdout",
          "text": [
            "Currently processing file: adrso066.wav\n"
          ]
        },
        {
          "output_type": "stream",
          "name": "stderr",
          "text": [
            "\r 40%|████      | 148/366 [01:21<02:59,  1.22it/s]"
          ]
        },
        {
          "output_type": "stream",
          "name": "stdout",
          "text": [
            "Currently processing file: adrso062.wav\n"
          ]
        },
        {
          "output_type": "stream",
          "name": "stderr",
          "text": [
            " 41%|████      | 150/366 [01:22<02:13,  1.62it/s]"
          ]
        },
        {
          "output_type": "stream",
          "name": "stdout",
          "text": [
            "Currently processing file: adrso063.wav\n",
            "Currently processing file: adrso070.wav\n"
          ]
        },
        {
          "output_type": "stream",
          "name": "stderr",
          "text": [
            "\r 41%|████▏     | 151/366 [01:22<01:50,  1.94it/s]"
          ]
        },
        {
          "output_type": "stream",
          "name": "stdout",
          "text": [
            "Currently processing file: adrso064.wav\n"
          ]
        },
        {
          "output_type": "stream",
          "name": "stderr",
          "text": [
            "\r 42%|████▏     | 152/366 [01:23<02:02,  1.75it/s]"
          ]
        },
        {
          "output_type": "stream",
          "name": "stdout",
          "text": [
            "Currently processing file: adrso065.wav\n"
          ]
        },
        {
          "output_type": "stream",
          "name": "stderr",
          "text": [
            "\r 42%|████▏     | 153/366 [01:23<01:59,  1.78it/s]"
          ]
        },
        {
          "output_type": "stream",
          "name": "stdout",
          "text": [
            "Currently processing file: adrso071.wav\n"
          ]
        },
        {
          "output_type": "stream",
          "name": "stderr",
          "text": [
            "\r 42%|████▏     | 154/366 [01:23<01:48,  1.95it/s]"
          ]
        },
        {
          "output_type": "stream",
          "name": "stdout",
          "text": [
            "Currently processing file: adrso068.wav\n",
            "Currently processing file: adrso083.wav\n"
          ]
        },
        {
          "output_type": "stream",
          "name": "stderr",
          "text": [
            "\r 43%|████▎     | 156/366 [01:24<01:34,  2.22it/s]"
          ]
        },
        {
          "output_type": "stream",
          "name": "stdout",
          "text": [
            "Currently processing file: adrso075.wav\n"
          ]
        },
        {
          "output_type": "stream",
          "name": "stderr",
          "text": [
            "\r 43%|████▎     | 157/366 [01:24<01:22,  2.53it/s]"
          ]
        },
        {
          "output_type": "stream",
          "name": "stdout",
          "text": [
            "Currently processing file: adrso092.wav\n"
          ]
        },
        {
          "output_type": "stream",
          "name": "stderr",
          "text": [
            "\r 43%|████▎     | 158/366 [01:25<01:35,  2.17it/s]"
          ]
        },
        {
          "output_type": "stream",
          "name": "stdout",
          "text": [
            "Currently processing file: adrso074.wav\n"
          ]
        },
        {
          "output_type": "stream",
          "name": "stderr",
          "text": [
            "\r 43%|████▎     | 159/366 [01:25<01:26,  2.40it/s]"
          ]
        },
        {
          "output_type": "stream",
          "name": "stdout",
          "text": [
            "Currently processing file: adrso088.wav\n"
          ]
        },
        {
          "output_type": "stream",
          "name": "stderr",
          "text": [
            "\r 44%|████▎     | 160/366 [01:26<01:15,  2.72it/s]"
          ]
        },
        {
          "output_type": "stream",
          "name": "stdout",
          "text": [
            "Currently processing file: adrso072.wav\n"
          ]
        },
        {
          "output_type": "stream",
          "name": "stderr",
          "text": [
            " 44%|████▍     | 162/366 [01:26<01:02,  3.26it/s]"
          ]
        },
        {
          "output_type": "stream",
          "name": "stdout",
          "text": [
            "Currently processing file: adrso093.wav\n",
            "Currently processing file: adrso078.wavCurrently processing file: adrso077.wav\n",
            "\n"
          ]
        },
        {
          "output_type": "stream",
          "name": "stderr",
          "text": [
            "\r 45%|████▍     | 164/366 [01:27<01:10,  2.88it/s]"
          ]
        },
        {
          "output_type": "stream",
          "name": "stdout",
          "text": [
            "Currently processing file: adrso090.wav\n"
          ]
        },
        {
          "output_type": "stream",
          "name": "stderr",
          "text": [
            "\r 45%|████▌     | 165/366 [01:28<01:54,  1.76it/s]"
          ]
        },
        {
          "output_type": "stream",
          "name": "stdout",
          "text": [
            "Currently processing file: adrso116.wav\n"
          ]
        },
        {
          "output_type": "stream",
          "name": "stderr",
          "text": [
            " 46%|████▌     | 167/366 [01:30<02:14,  1.48it/s]"
          ]
        },
        {
          "output_type": "stream",
          "name": "stdout",
          "text": [
            "Currently processing file: adrso117.wav\n",
            "Currently processing file: adrso109.wav\n"
          ]
        },
        {
          "output_type": "stream",
          "name": "stderr",
          "text": [
            "\r 46%|████▌     | 168/366 [01:30<01:49,  1.81it/s]"
          ]
        },
        {
          "output_type": "stream",
          "name": "stdout",
          "text": [
            "Currently processing file: adrso098.wav\n"
          ]
        },
        {
          "output_type": "stream",
          "name": "stderr",
          "text": [
            "\r 46%|████▌     | 169/366 [01:31<01:44,  1.89it/s]"
          ]
        },
        {
          "output_type": "stream",
          "name": "stdout",
          "text": [
            "Currently processing file: adrso099.wav\n"
          ]
        },
        {
          "output_type": "stream",
          "name": "stderr",
          "text": [
            "\r 46%|████▋     | 170/366 [01:31<01:29,  2.18it/s]"
          ]
        },
        {
          "output_type": "stream",
          "name": "stdout",
          "text": [
            "Currently processing file: adrso108.wav\n"
          ]
        },
        {
          "output_type": "stream",
          "name": "stderr",
          "text": [
            "\r 47%|████▋     | 171/366 [01:31<01:17,  2.53it/s]"
          ]
        },
        {
          "output_type": "stream",
          "name": "stdout",
          "text": [
            "Currently processing file: adrso106.wav\n",
            "Currently processing file: adrso113.wav\n"
          ]
        },
        {
          "output_type": "stream",
          "name": "stderr",
          "text": [
            " 48%|████▊     | 174/366 [01:32<01:11,  2.70it/s]"
          ]
        },
        {
          "output_type": "stream",
          "name": "stdout",
          "text": [
            "Currently processing file: adrso112.wav\n",
            "Currently processing file: adrso110.wav\n"
          ]
        },
        {
          "output_type": "stream",
          "name": "stderr",
          "text": [
            "\r 48%|████▊     | 175/366 [01:33<01:06,  2.86it/s]"
          ]
        },
        {
          "output_type": "stream",
          "name": "stdout",
          "text": [
            "Currently processing file: adrso122.wav\n",
            "Currently processing file: adrso123.wav\n"
          ]
        },
        {
          "output_type": "stream",
          "name": "stderr",
          "text": [
            "\r 48%|████▊     | 177/366 [01:33<00:46,  4.07it/s]"
          ]
        },
        {
          "output_type": "stream",
          "name": "stdout",
          "text": [
            "Currently processing file: adrso130.wav\n"
          ]
        },
        {
          "output_type": "stream",
          "name": "stderr",
          "text": [
            "\r 49%|████▊     | 178/366 [01:35<01:52,  1.68it/s]"
          ]
        },
        {
          "output_type": "stream",
          "name": "stdout",
          "text": [
            "Currently processing file: adrso121.wav\n"
          ]
        },
        {
          "output_type": "stream",
          "name": "stderr",
          "text": [
            " 49%|████▉     | 180/366 [01:36<01:36,  1.92it/s]"
          ]
        },
        {
          "output_type": "stream",
          "name": "stdout",
          "text": [
            "Currently processing file: adrso125.wav\n",
            "Currently processing file: adrso132.wav\n"
          ]
        },
        {
          "output_type": "stream",
          "name": "stderr",
          "text": [
            "\r 49%|████▉     | 181/366 [01:36<01:37,  1.89it/s]"
          ]
        },
        {
          "output_type": "stream",
          "name": "stdout",
          "text": [
            "Currently processing file: adrso124.wav\n"
          ]
        },
        {
          "output_type": "stream",
          "name": "stderr",
          "text": [
            "\r 50%|████▉     | 182/366 [01:37<01:31,  2.02it/s]"
          ]
        },
        {
          "output_type": "stream",
          "name": "stdout",
          "text": [
            "Currently processing file: adrso126.wav\n"
          ]
        },
        {
          "output_type": "stream",
          "name": "stderr",
          "text": [
            "\r 50%|█████     | 183/366 [01:37<01:29,  2.04it/s]"
          ]
        },
        {
          "output_type": "stream",
          "name": "stdout",
          "text": [
            "Currently processing file: adrso128.wav\n"
          ]
        },
        {
          "output_type": "stream",
          "name": "stderr",
          "text": [
            "\r 50%|█████     | 184/366 [01:38<01:34,  1.93it/s]"
          ]
        },
        {
          "output_type": "stream",
          "name": "stdout",
          "text": [
            "Currently processing file: adrso118.wav\n",
            "Currently processing file: adrso149.wav\n"
          ]
        },
        {
          "output_type": "stream",
          "name": "stderr",
          "text": [
            "\r 51%|█████     | 186/366 [01:38<01:04,  2.80it/s]"
          ]
        },
        {
          "output_type": "stream",
          "name": "stdout",
          "text": [
            "Currently processing file: adrso142.wav\n"
          ]
        },
        {
          "output_type": "stream",
          "name": "stderr",
          "text": [
            " 51%|█████▏    | 188/366 [01:39<01:03,  2.78it/s]"
          ]
        },
        {
          "output_type": "stream",
          "name": "stdout",
          "text": [
            "Currently processing file: adrso148.wav\n",
            "Currently processing file: adrso138.wav\n",
            "Currently processing file: adrso134.wav\n"
          ]
        },
        {
          "output_type": "stream",
          "name": "stderr",
          "text": [
            "\r 52%|█████▏    | 190/366 [01:39<00:50,  3.46it/s]"
          ]
        },
        {
          "output_type": "stream",
          "name": "stdout",
          "text": [
            "Currently processing file: adrso141.wav\n"
          ]
        },
        {
          "output_type": "stream",
          "name": "stderr",
          "text": [
            "\r 52%|█████▏    | 191/366 [01:40<01:09,  2.51it/s]"
          ]
        },
        {
          "output_type": "stream",
          "name": "stdout",
          "text": [
            "Currently processing file: adrso135.wav\n"
          ]
        },
        {
          "output_type": "stream",
          "name": "stderr",
          "text": [
            "\r 52%|█████▏    | 192/366 [01:41<01:25,  2.03it/s]"
          ]
        },
        {
          "output_type": "stream",
          "name": "stdout",
          "text": [
            "Currently processing file: adrso150.wav\n"
          ]
        },
        {
          "output_type": "stream",
          "name": "stderr",
          "text": [
            "\r 53%|█████▎    | 193/366 [01:41<01:15,  2.30it/s]"
          ]
        },
        {
          "output_type": "stream",
          "name": "stdout",
          "text": [
            "Currently processing file: adrso144.wav\n",
            "Currently processing file: adrso140.wav\n"
          ]
        },
        {
          "output_type": "stream",
          "name": "stderr",
          "text": [
            " 54%|█████▍    | 197/366 [01:41<00:36,  4.67it/s]"
          ]
        },
        {
          "output_type": "stream",
          "name": "stdout",
          "text": [
            "Currently processing file: adrso156.wav\n",
            "Currently processing file: adrso160.wav\n",
            "Currently processing file: adrso151.wav\n"
          ]
        },
        {
          "output_type": "stream",
          "name": "stderr",
          "text": [
            "\r 54%|█████▍    | 198/366 [01:42<00:49,  3.38it/s]"
          ]
        },
        {
          "output_type": "stream",
          "name": "stdout",
          "text": [
            "Currently processing file: adrso159.wav\n"
          ]
        },
        {
          "output_type": "stream",
          "name": "stderr",
          "text": [
            "\r 54%|█████▍    | 199/366 [01:43<01:05,  2.55it/s]"
          ]
        },
        {
          "output_type": "stream",
          "name": "stdout",
          "text": [
            "Currently processing file: adrso152.wav\n"
          ]
        },
        {
          "output_type": "stream",
          "name": "stderr",
          "text": [
            "\r 55%|█████▍    | 200/366 [01:43<01:03,  2.60it/s]"
          ]
        },
        {
          "output_type": "stream",
          "name": "stdout",
          "text": [
            "Currently processing file: adrso155.wav\n"
          ]
        },
        {
          "output_type": "stream",
          "name": "stderr",
          "text": [
            "\r 55%|█████▍    | 201/366 [01:44<01:23,  1.98it/s]"
          ]
        },
        {
          "output_type": "stream",
          "name": "stdout",
          "text": [
            "Currently processing file: adrso153.wav\n"
          ]
        },
        {
          "output_type": "stream",
          "name": "stderr",
          "text": [
            "\r 55%|█████▌    | 202/366 [01:45<01:41,  1.61it/s]"
          ]
        },
        {
          "output_type": "stream",
          "name": "stdout",
          "text": [
            "Currently processing file: adrso157.wav\n"
          ]
        },
        {
          "output_type": "stream",
          "name": "stderr",
          "text": [
            "\r 55%|█████▌    | 203/366 [01:45<01:40,  1.61it/s]"
          ]
        },
        {
          "output_type": "stream",
          "name": "stdout",
          "text": [
            "Currently processing file: adrso158.wav\n",
            "Currently processing file: adrso154.wav\n"
          ]
        },
        {
          "output_type": "stream",
          "name": "stderr",
          "text": [
            "\r 56%|█████▌    | 205/366 [01:46<01:20,  2.00it/s]"
          ]
        },
        {
          "output_type": "stream",
          "name": "stdout",
          "text": [
            "Currently processing file: adrso169.wav\n"
          ]
        },
        {
          "output_type": "stream",
          "name": "stderr",
          "text": [
            "\r 56%|█████▋    | 206/366 [01:47<01:23,  1.91it/s]"
          ]
        },
        {
          "output_type": "stream",
          "name": "stdout",
          "text": [
            "Currently processing file: adrso170.wav\n"
          ]
        },
        {
          "output_type": "stream",
          "name": "stderr",
          "text": [
            "\r 57%|█████▋    | 207/366 [01:47<01:27,  1.81it/s]"
          ]
        },
        {
          "output_type": "stream",
          "name": "stdout",
          "text": [
            "Currently processing file: adrso161.wav\n",
            "Currently processing file: adrso166.wav\n"
          ]
        },
        {
          "output_type": "stream",
          "name": "stderr",
          "text": [
            "\r 57%|█████▋    | 209/366 [01:48<01:19,  1.97it/s]"
          ]
        },
        {
          "output_type": "stream",
          "name": "stdout",
          "text": [
            "Currently processing file: adrso164.wav\n"
          ]
        },
        {
          "output_type": "stream",
          "name": "stderr",
          "text": [
            "\r 57%|█████▋    | 210/366 [01:49<01:15,  2.08it/s]"
          ]
        },
        {
          "output_type": "stream",
          "name": "stdout",
          "text": [
            "Currently processing file: adrso171.wav\n"
          ]
        },
        {
          "output_type": "stream",
          "name": "stderr",
          "text": [
            " 58%|█████▊    | 212/366 [01:50<01:09,  2.22it/s]"
          ]
        },
        {
          "output_type": "stream",
          "name": "stdout",
          "text": [
            "Currently processing file: adrso167.wav\n",
            "Currently processing file: adrso168.wav\n"
          ]
        },
        {
          "output_type": "stream",
          "name": "stderr",
          "text": [
            "\r 58%|█████▊    | 213/366 [01:50<01:03,  2.42it/s]"
          ]
        },
        {
          "output_type": "stream",
          "name": "stdout",
          "text": [
            "Currently processing file: adrso162.wav\n",
            "Currently processing file: adrso165.wav\n"
          ]
        },
        {
          "output_type": "stream",
          "name": "stderr",
          "text": [
            "\r 59%|█████▊    | 215/366 [01:51<01:03,  2.37it/s]"
          ]
        },
        {
          "output_type": "stream",
          "name": "stdout",
          "text": [
            "Currently processing file: adrso184.wav\n"
          ]
        },
        {
          "output_type": "stream",
          "name": "stderr",
          "text": [
            "\r 59%|█████▉    | 216/366 [01:51<01:08,  2.19it/s]"
          ]
        },
        {
          "output_type": "stream",
          "name": "stdout",
          "text": [
            "Currently processing file: adrso177.wav\n"
          ]
        },
        {
          "output_type": "stream",
          "name": "stderr",
          "text": [
            "\r 59%|█████▉    | 217/366 [01:52<01:03,  2.36it/s]"
          ]
        },
        {
          "output_type": "stream",
          "name": "stdout",
          "text": [
            "Currently processing file: adrso182.wav\n"
          ]
        },
        {
          "output_type": "stream",
          "name": "stderr",
          "text": [
            "\r 60%|█████▉    | 218/366 [01:52<01:02,  2.36it/s]"
          ]
        },
        {
          "output_type": "stream",
          "name": "stdout",
          "text": [
            "Currently processing file: adrso173.wav\n"
          ]
        },
        {
          "output_type": "stream",
          "name": "stderr",
          "text": [
            "\r 60%|█████▉    | 219/366 [01:53<01:08,  2.14it/s]"
          ]
        },
        {
          "output_type": "stream",
          "name": "stdout",
          "text": [
            "Currently processing file: adrso180.wav\n"
          ]
        },
        {
          "output_type": "stream",
          "name": "stderr",
          "text": [
            " 60%|██████    | 221/366 [01:53<01:00,  2.40it/s]"
          ]
        },
        {
          "output_type": "stream",
          "name": "stdout",
          "text": [
            "Currently processing file: adrso181.wav\n",
            "Currently processing file: adrso178.wav\n"
          ]
        },
        {
          "output_type": "stream",
          "name": "stderr",
          "text": [
            "\r 61%|██████    | 222/366 [01:54<01:19,  1.80it/s]"
          ]
        },
        {
          "output_type": "stream",
          "name": "stdout",
          "text": [
            "Currently processing file: adrso183.wav\n"
          ]
        },
        {
          "output_type": "stream",
          "name": "stderr",
          "text": [
            "\r 61%|██████    | 223/366 [01:55<01:05,  2.18it/s]"
          ]
        },
        {
          "output_type": "stream",
          "name": "stdout",
          "text": [
            "Currently processing file: adrso179.wav\n",
            "Currently processing file: adrso172.wav\n"
          ]
        },
        {
          "output_type": "stream",
          "name": "stderr",
          "text": [
            "\r 61%|██████▏   | 225/366 [01:56<01:08,  2.06it/s]"
          ]
        },
        {
          "output_type": "stream",
          "name": "stdout",
          "text": [
            "Currently processing file: adrso188.wav\n"
          ]
        },
        {
          "output_type": "stream",
          "name": "stderr",
          "text": [
            "\r 62%|██████▏   | 226/366 [01:56<01:11,  1.96it/s]"
          ]
        },
        {
          "output_type": "stream",
          "name": "stdout",
          "text": [
            "Currently processing file: adrso194.wav\n"
          ]
        },
        {
          "output_type": "stream",
          "name": "stderr",
          "text": [
            "\r 62%|██████▏   | 227/366 [01:57<01:35,  1.46it/s]"
          ]
        },
        {
          "output_type": "stream",
          "name": "stdout",
          "text": [
            "Currently processing file: adrso197.wav\n"
          ]
        },
        {
          "output_type": "stream",
          "name": "stderr",
          "text": [
            " 63%|██████▎   | 229/366 [01:59<01:29,  1.53it/s]"
          ]
        },
        {
          "output_type": "stream",
          "name": "stdout",
          "text": [
            "Currently processing file: adrso190.wav\n",
            "Currently processing file: adrso198.wav"
          ]
        },
        {
          "output_type": "stream",
          "name": "stderr",
          "text": [
            "\r 63%|██████▎   | 230/366 [01:59<01:07,  2.00it/s]"
          ]
        },
        {
          "output_type": "stream",
          "name": "stdout",
          "text": [
            "\n",
            "Currently processing file: adrso186.wav\n"
          ]
        },
        {
          "output_type": "stream",
          "name": "stderr",
          "text": [
            "\r 63%|██████▎   | 231/366 [01:59<00:58,  2.32it/s]"
          ]
        },
        {
          "output_type": "stream",
          "name": "stdout",
          "text": [
            "Currently processing file: adrso192.wav\n"
          ]
        },
        {
          "output_type": "stream",
          "name": "stderr",
          "text": [
            "\r 63%|██████▎   | 232/366 [01:59<00:50,  2.67it/s]"
          ]
        },
        {
          "output_type": "stream",
          "name": "stdout",
          "text": [
            "Currently processing file: adrso189.wav\n"
          ]
        },
        {
          "output_type": "stream",
          "name": "stderr",
          "text": [
            " 64%|██████▍   | 234/366 [02:00<00:43,  3.00it/s]"
          ]
        },
        {
          "output_type": "stream",
          "name": "stdout",
          "text": [
            "Currently processing file: adrso187.wav\n",
            "Currently processing file: adrso185.wav\n"
          ]
        },
        {
          "output_type": "stream",
          "name": "stderr",
          "text": [
            " 64%|██████▍   | 236/366 [02:01<00:40,  3.22it/s]"
          ]
        },
        {
          "output_type": "stream",
          "name": "stdout",
          "text": [
            "Currently processing file: adrso202.wav\n",
            "Currently processing file: adrso210.wav\n"
          ]
        },
        {
          "output_type": "stream",
          "name": "stderr",
          "text": [
            "\r 65%|██████▍   | 237/366 [02:02<01:35,  1.35it/s]"
          ]
        },
        {
          "output_type": "stream",
          "name": "stdout",
          "text": [
            "Currently processing file: adrso212.wav\n"
          ]
        },
        {
          "output_type": "stream",
          "name": "stderr",
          "text": [
            "\r 65%|██████▌   | 238/366 [02:03<01:15,  1.69it/s]"
          ]
        },
        {
          "output_type": "stream",
          "name": "stdout",
          "text": [
            "Currently processing file: adrso206.wav\n"
          ]
        },
        {
          "output_type": "stream",
          "name": "stderr",
          "text": [
            "\r 65%|██████▌   | 239/366 [02:04<01:35,  1.33it/s]"
          ]
        },
        {
          "output_type": "stream",
          "name": "stdout",
          "text": [
            "Currently processing file: adrso209.wav\n"
          ]
        },
        {
          "output_type": "stream",
          "name": "stderr",
          "text": [
            "\r 66%|██████▌   | 240/366 [02:05<01:38,  1.28it/s]"
          ]
        },
        {
          "output_type": "stream",
          "name": "stdout",
          "text": [
            "Currently processing file: adrso211.wav\n"
          ]
        },
        {
          "output_type": "stream",
          "name": "stderr",
          "text": [
            "\r 66%|██████▌   | 241/366 [02:05<01:19,  1.57it/s]"
          ]
        },
        {
          "output_type": "stream",
          "name": "stdout",
          "text": [
            "Currently processing file: adrso200.wav\n"
          ]
        },
        {
          "output_type": "stream",
          "name": "stderr",
          "text": [
            "\r 66%|██████▌   | 242/366 [02:05<01:06,  1.87it/s]"
          ]
        },
        {
          "output_type": "stream",
          "name": "stdout",
          "text": [
            "Currently processing file: adrso214.wav\n"
          ]
        },
        {
          "output_type": "stream",
          "name": "stderr",
          "text": [
            "\r 66%|██████▋   | 243/366 [02:06<01:05,  1.88it/s]"
          ]
        },
        {
          "output_type": "stream",
          "name": "stdout",
          "text": [
            "Currently processing file: adrso205.wav\n"
          ]
        },
        {
          "output_type": "stream",
          "name": "stderr",
          "text": [
            "\r 67%|██████▋   | 244/366 [02:08<01:54,  1.07it/s]"
          ]
        },
        {
          "output_type": "stream",
          "name": "stdout",
          "text": [
            "Currently processing file: adrso199.wav\n",
            "Currently processing file: adrso219.wav\n"
          ]
        },
        {
          "output_type": "stream",
          "name": "stderr",
          "text": [
            "\r 67%|██████▋   | 246/366 [02:08<01:10,  1.69it/s]"
          ]
        },
        {
          "output_type": "stream",
          "name": "stdout",
          "text": [
            "Currently processing file: adrso223.wav\n"
          ]
        },
        {
          "output_type": "stream",
          "name": "stderr",
          "text": [
            "\r 67%|██████▋   | 247/366 [02:09<01:20,  1.47it/s]"
          ]
        },
        {
          "output_type": "stream",
          "name": "stdout",
          "text": [
            "Currently processing file: adrso226.wav\n",
            "Currently processing file: adrso222.wav\n"
          ]
        },
        {
          "output_type": "stream",
          "name": "stderr",
          "text": [
            "\r 68%|██████▊   | 249/366 [02:09<00:57,  2.04it/s]"
          ]
        },
        {
          "output_type": "stream",
          "name": "stdout",
          "text": [
            "Currently processing file: adrso218.wav\n"
          ]
        },
        {
          "output_type": "stream",
          "name": "stderr",
          "text": [
            " 69%|██████▊   | 251/366 [02:10<00:53,  2.14it/s]"
          ]
        },
        {
          "output_type": "stream",
          "name": "stdout",
          "text": [
            "Currently processing file: adrso215.wav\n",
            "Currently processing file: adrso220.wav\n"
          ]
        },
        {
          "output_type": "stream",
          "name": "stderr",
          "text": [
            " 69%|██████▉   | 254/366 [02:11<00:29,  3.79it/s]"
          ]
        },
        {
          "output_type": "stream",
          "name": "stdout",
          "text": [
            "Currently processing file: adrso217.wav\n",
            "Currently processing file: adrso224.wav\n",
            "Currently processing file: adrso216.wav\n"
          ]
        },
        {
          "output_type": "stream",
          "name": "stderr",
          "text": [
            "\r 70%|██████▉   | 255/366 [02:11<00:25,  4.39it/s]"
          ]
        },
        {
          "output_type": "stream",
          "name": "stdout",
          "text": [
            "Currently processing file: adrso228.wav\n"
          ]
        },
        {
          "output_type": "stream",
          "name": "stderr",
          "text": [
            "\r 70%|██████▉   | 256/366 [02:13<01:12,  1.51it/s]"
          ]
        },
        {
          "output_type": "stream",
          "name": "stdout",
          "text": [
            "Currently processing file: adrso243.wav\n"
          ]
        },
        {
          "output_type": "stream",
          "name": "stderr",
          "text": [
            "\r 70%|███████   | 257/366 [02:14<01:18,  1.39it/s]"
          ]
        },
        {
          "output_type": "stream",
          "name": "stdout",
          "text": [
            "Currently processing file: adrso229.wav\n"
          ]
        },
        {
          "output_type": "stream",
          "name": "stderr",
          "text": [
            " 71%|███████   | 259/366 [02:15<01:10,  1.52it/s]"
          ]
        },
        {
          "output_type": "stream",
          "name": "stdout",
          "text": [
            "Currently processing file: adrso233.wav\n",
            "Currently processing file: adrso235.wav\n"
          ]
        },
        {
          "output_type": "stream",
          "name": "stderr",
          "text": [
            "\r 71%|███████   | 260/366 [02:15<00:54,  1.94it/s]"
          ]
        },
        {
          "output_type": "stream",
          "name": "stdout",
          "text": [
            "Currently processing file: adrso236.wav\n"
          ]
        },
        {
          "output_type": "stream",
          "name": "stderr",
          "text": [
            " 72%|███████▏  | 262/366 [02:17<00:56,  1.84it/s]"
          ]
        },
        {
          "output_type": "stream",
          "name": "stdout",
          "text": [
            "Currently processing file: adrso237.wav\n",
            "Currently processing file: adrso231.wav\n"
          ]
        },
        {
          "output_type": "stream",
          "name": "stderr",
          "text": [
            " 72%|███████▏  | 264/366 [02:17<00:35,  2.87it/s]"
          ]
        },
        {
          "output_type": "stream",
          "name": "stdout",
          "text": [
            "Currently processing file: adrso232.wav\n",
            "Currently processing file: adrso234.wav\n"
          ]
        },
        {
          "output_type": "stream",
          "name": "stderr",
          "text": [
            "\r 72%|███████▏  | 265/366 [02:18<00:49,  2.03it/s]"
          ]
        },
        {
          "output_type": "stream",
          "name": "stdout",
          "text": [
            "Currently processing file: adrso246.wav\n"
          ]
        },
        {
          "output_type": "stream",
          "name": "stderr",
          "text": [
            " 73%|███████▎  | 267/366 [02:20<01:02,  1.60it/s]"
          ]
        },
        {
          "output_type": "stream",
          "name": "stdout",
          "text": [
            "Currently processing file: adrso250.wav\n",
            "Currently processing file: adrso248.wav\n"
          ]
        },
        {
          "output_type": "stream",
          "name": "stderr",
          "text": [
            "\r 73%|███████▎  | 268/366 [02:20<01:01,  1.59it/s]"
          ]
        },
        {
          "output_type": "stream",
          "name": "stdout",
          "text": [
            "Currently processing file: adrso251.wav\n",
            "Currently processing file: adrso245.wav\n"
          ]
        },
        {
          "output_type": "stream",
          "name": "stderr",
          "text": [
            " 74%|███████▍  | 271/366 [02:21<00:37,  2.56it/s]"
          ]
        },
        {
          "output_type": "stream",
          "name": "stdout",
          "text": [
            "Currently processing file: adrso253.wav\n",
            "Currently processing file: adrso254.wav\n"
          ]
        },
        {
          "output_type": "stream",
          "name": "stderr",
          "text": [
            " 75%|███████▍  | 274/366 [02:21<00:23,  3.92it/s]"
          ]
        },
        {
          "output_type": "stream",
          "name": "stdout",
          "text": [
            "Currently processing file: adrso244.wav\n",
            "Currently processing file: adrso249.wav\n",
            "Currently processing file: adrso247.wav\n"
          ]
        },
        {
          "output_type": "stream",
          "name": "stderr",
          "text": [
            " 75%|███████▌  | 276/366 [02:23<00:31,  2.86it/s]"
          ]
        },
        {
          "output_type": "stream",
          "name": "stdout",
          "text": [
            "Currently processing file: adrso259.wav\n",
            "Currently processing file: adrso262.wav\n"
          ]
        },
        {
          "output_type": "stream",
          "name": "stderr",
          "text": [
            "\r 76%|███████▌  | 277/366 [02:23<00:34,  2.57it/s]"
          ]
        },
        {
          "output_type": "stream",
          "name": "stdout",
          "text": [
            "Currently processing file: adrso256.wav\n"
          ]
        },
        {
          "output_type": "stream",
          "name": "stderr",
          "text": [
            "\r 76%|███████▌  | 278/366 [02:24<00:42,  2.07it/s]"
          ]
        },
        {
          "output_type": "stream",
          "name": "stdout",
          "text": [
            "Currently processing file: adrso263.wav\n"
          ]
        },
        {
          "output_type": "stream",
          "name": "stderr",
          "text": [
            "\r 76%|███████▌  | 279/366 [02:24<00:35,  2.43it/s]"
          ]
        },
        {
          "output_type": "stream",
          "name": "stdout",
          "text": [
            "Currently processing file: adrso258.wav\n"
          ]
        },
        {
          "output_type": "stream",
          "name": "stderr",
          "text": [
            "\r 77%|███████▋  | 280/366 [02:25<00:52,  1.63it/s]"
          ]
        },
        {
          "output_type": "stream",
          "name": "stdout",
          "text": [
            "Currently processing file: adrso257.wav\n"
          ]
        },
        {
          "output_type": "stream",
          "name": "stderr",
          "text": [
            " 77%|███████▋  | 282/366 [02:26<00:38,  2.20it/s]"
          ]
        },
        {
          "output_type": "stream",
          "name": "stdout",
          "text": [
            "Currently processing file: adrso255.wav\n",
            "Currently processing file: adrso264.wav\n"
          ]
        },
        {
          "output_type": "stream",
          "name": "stderr",
          "text": [
            "\r 77%|███████▋  | 283/366 [02:26<00:39,  2.12it/s]"
          ]
        },
        {
          "output_type": "stream",
          "name": "stdout",
          "text": [
            "Currently processing file: adrso261.wav\n"
          ]
        },
        {
          "output_type": "stream",
          "name": "stderr",
          "text": [
            " 78%|███████▊  | 285/366 [02:27<00:32,  2.53it/s]"
          ]
        },
        {
          "output_type": "stream",
          "name": "stdout",
          "text": [
            "Currently processing file: adrso260.wav\n",
            "Currently processing file: adrso272.wav\n"
          ]
        },
        {
          "output_type": "stream",
          "name": "stderr",
          "text": [
            "\r 78%|███████▊  | 286/366 [02:28<00:43,  1.85it/s]"
          ]
        },
        {
          "output_type": "stream",
          "name": "stdout",
          "text": [
            "Currently processing file: adrso275.wav\n"
          ]
        },
        {
          "output_type": "stream",
          "name": "stderr",
          "text": [
            "\r 78%|███████▊  | 287/366 [02:30<01:23,  1.06s/it]"
          ]
        },
        {
          "output_type": "stream",
          "name": "stdout",
          "text": [
            "Currently processing file: adrso274.wav\n",
            "Currently processing file: adrso269.wavCurrently processing file: adrso268.wav\n",
            "\n"
          ]
        },
        {
          "output_type": "stream",
          "name": "stderr",
          "text": [
            " 80%|███████▉  | 291/366 [02:31<00:41,  1.82it/s]"
          ]
        },
        {
          "output_type": "stream",
          "name": "stdout",
          "text": [
            "Currently processing file: adrso267.wav\n",
            "Currently processing file: adrso265.wav\n"
          ]
        },
        {
          "output_type": "stream",
          "name": "stderr",
          "text": [
            " 80%|████████  | 293/366 [02:32<00:28,  2.59it/s]"
          ]
        },
        {
          "output_type": "stream",
          "name": "stdout",
          "text": [
            "Currently processing file: adrso266.wav\n",
            "Currently processing file: adrso273.wav\n"
          ]
        },
        {
          "output_type": "stream",
          "name": "stderr",
          "text": [
            "\r 80%|████████  | 294/366 [02:33<00:35,  2.01it/s]"
          ]
        },
        {
          "output_type": "stream",
          "name": "stdout",
          "text": [
            "Currently processing file: adrso270.wav\n"
          ]
        },
        {
          "output_type": "stream",
          "name": "stderr",
          "text": [
            "\r 81%|████████  | 295/366 [02:34<00:45,  1.55it/s]"
          ]
        },
        {
          "output_type": "stream",
          "name": "stdout",
          "text": [
            "Currently processing file: adrso276.wav\n"
          ]
        },
        {
          "output_type": "stream",
          "name": "stderr",
          "text": [
            "\r 81%|████████  | 296/366 [02:34<00:37,  1.85it/s]"
          ]
        },
        {
          "output_type": "stream",
          "name": "stdout",
          "text": [
            "Currently processing file: adrso285.wav\n"
          ]
        },
        {
          "output_type": "stream",
          "name": "stderr",
          "text": [
            "\r 81%|████████  | 297/366 [02:35<00:43,  1.57it/s]"
          ]
        },
        {
          "output_type": "stream",
          "name": "stdout",
          "text": [
            "Currently processing file: adrso281.wav\n"
          ]
        },
        {
          "output_type": "stream",
          "name": "stderr",
          "text": [
            "\r 81%|████████▏ | 298/366 [02:36<01:01,  1.10it/s]"
          ]
        },
        {
          "output_type": "stream",
          "name": "stdout",
          "text": [
            "Currently processing file: adrso278.wav\n"
          ]
        },
        {
          "output_type": "stream",
          "name": "stderr",
          "text": [
            "\r 82%|████████▏ | 299/366 [02:37<00:50,  1.34it/s]"
          ]
        },
        {
          "output_type": "stream",
          "name": "stdout",
          "text": [
            "Currently processing file: adrso283.wav\n"
          ]
        },
        {
          "output_type": "stream",
          "name": "stderr",
          "text": [
            "\r 82%|████████▏ | 300/366 [02:37<00:41,  1.60it/s]"
          ]
        },
        {
          "output_type": "stream",
          "name": "stdout",
          "text": [
            "Currently processing file: adrso279.wav\n"
          ]
        },
        {
          "output_type": "stream",
          "name": "stderr",
          "text": [
            "\r 82%|████████▏ | 301/366 [02:37<00:37,  1.71it/s]"
          ]
        },
        {
          "output_type": "stream",
          "name": "stdout",
          "text": [
            "Currently processing file: adrso284.wav\n"
          ]
        },
        {
          "output_type": "stream",
          "name": "stderr",
          "text": [
            "\r 83%|████████▎ | 302/366 [02:38<00:31,  2.06it/s]"
          ]
        },
        {
          "output_type": "stream",
          "name": "stdout",
          "text": [
            "Currently processing file: adrso286.wav\n"
          ]
        },
        {
          "output_type": "stream",
          "name": "stderr",
          "text": [
            "\r 83%|████████▎ | 303/366 [02:38<00:34,  1.80it/s]"
          ]
        },
        {
          "output_type": "stream",
          "name": "stdout",
          "text": [
            "Currently processing file: adrso277.wav\n"
          ]
        },
        {
          "output_type": "stream",
          "name": "stderr",
          "text": [
            "\r 83%|████████▎ | 304/366 [02:39<00:33,  1.85it/s]"
          ]
        },
        {
          "output_type": "stream",
          "name": "stdout",
          "text": [
            "Currently processing file: adrso280.wav\n"
          ]
        },
        {
          "output_type": "stream",
          "name": "stderr",
          "text": [
            "\r 83%|████████▎ | 305/366 [02:40<00:36,  1.69it/s]"
          ]
        },
        {
          "output_type": "stream",
          "name": "stdout",
          "text": [
            "Currently processing file: adrso296.wav\n"
          ]
        },
        {
          "output_type": "stream",
          "name": "stderr",
          "text": [
            "\r 84%|████████▎ | 306/366 [02:40<00:34,  1.73it/s]"
          ]
        },
        {
          "output_type": "stream",
          "name": "stdout",
          "text": [
            "Currently processing file: adrso292.wav\n"
          ]
        },
        {
          "output_type": "stream",
          "name": "stderr",
          "text": [
            "\r 84%|████████▍ | 307/366 [02:41<00:46,  1.28it/s]"
          ]
        },
        {
          "output_type": "stream",
          "name": "stdout",
          "text": [
            "Currently processing file: adrso287.wav\n"
          ]
        },
        {
          "output_type": "stream",
          "name": "stderr",
          "text": [
            " 84%|████████▍ | 309/366 [02:42<00:30,  1.88it/s]"
          ]
        },
        {
          "output_type": "stream",
          "name": "stdout",
          "text": [
            "Currently processing file: adrso291.wav\n",
            "Currently processing file: adrso293.wav\n"
          ]
        },
        {
          "output_type": "stream",
          "name": "stderr",
          "text": [
            "\r 85%|████████▍ | 310/366 [02:43<00:28,  1.98it/s]"
          ]
        },
        {
          "output_type": "stream",
          "name": "stdout",
          "text": [
            "Currently processing file: adrso290.wav\n"
          ]
        },
        {
          "output_type": "stream",
          "name": "stderr",
          "text": [
            "\r 85%|████████▍ | 311/366 [02:43<00:27,  1.99it/s]"
          ]
        },
        {
          "output_type": "stream",
          "name": "stdout",
          "text": [
            "Currently processing file: adrso295.wav\n"
          ]
        },
        {
          "output_type": "stream",
          "name": "stderr",
          "text": [
            "\r 85%|████████▌ | 312/366 [02:43<00:22,  2.39it/s]"
          ]
        },
        {
          "output_type": "stream",
          "name": "stdout",
          "text": [
            "Currently processing file: adrso294.wav\n"
          ]
        },
        {
          "output_type": "stream",
          "name": "stderr",
          "text": [
            "\r 86%|████████▌ | 313/366 [02:43<00:19,  2.76it/s]"
          ]
        },
        {
          "output_type": "stream",
          "name": "stdout",
          "text": [
            "Currently processing file: adrso288.wav\n"
          ]
        },
        {
          "output_type": "stream",
          "name": "stderr",
          "text": [
            "\r 86%|████████▌ | 314/366 [02:46<00:59,  1.15s/it]"
          ]
        },
        {
          "output_type": "stream",
          "name": "stdout",
          "text": [
            "Currently processing file: adrso289.wav\n"
          ]
        },
        {
          "output_type": "stream",
          "name": "stderr",
          "text": [
            " 86%|████████▋ | 316/366 [02:48<00:42,  1.17it/s]"
          ]
        },
        {
          "output_type": "stream",
          "name": "stdout",
          "text": [
            "Currently processing file: adrso307.wav\n",
            "Currently processing file: adrso308.wavCurrently processing file: adrso298.wav\n",
            "\n"
          ]
        },
        {
          "output_type": "stream",
          "name": "stderr",
          "text": [
            "\r 87%|████████▋ | 318/366 [02:49<00:32,  1.47it/s]"
          ]
        },
        {
          "output_type": "stream",
          "name": "stdout",
          "text": [
            "Currently processing file: adrso304.wav\n"
          ]
        },
        {
          "output_type": "stream",
          "name": "stderr",
          "text": [
            "\r 87%|████████▋ | 319/366 [02:49<00:28,  1.65it/s]"
          ]
        },
        {
          "output_type": "stream",
          "name": "stdout",
          "text": [
            "Currently processing file: adrso300.wav\n"
          ]
        },
        {
          "output_type": "stream",
          "name": "stderr",
          "text": [
            "\r 87%|████████▋ | 320/366 [02:50<00:27,  1.66it/s]"
          ]
        },
        {
          "output_type": "stream",
          "name": "stdout",
          "text": [
            "Currently processing file: adrso303.wav\n",
            "Currently processing file: adrso299.wav\n"
          ]
        },
        {
          "output_type": "stream",
          "name": "stderr",
          "text": [
            "\r 88%|████████▊ | 322/366 [02:50<00:19,  2.25it/s]"
          ]
        },
        {
          "output_type": "stream",
          "name": "stdout",
          "text": [
            "Currently processing file: adrso297.wav\n"
          ]
        },
        {
          "output_type": "stream",
          "name": "stderr",
          "text": [
            " 89%|████████▊ | 324/366 [02:51<00:18,  2.28it/s]"
          ]
        },
        {
          "output_type": "stream",
          "name": "stdout",
          "text": [
            "Currently processing file: adrso302.wav\n",
            "Currently processing file: adrso301.wav\n"
          ]
        },
        {
          "output_type": "stream",
          "name": "stderr",
          "text": [
            "\r 89%|████████▉ | 325/366 [02:52<00:25,  1.61it/s]"
          ]
        },
        {
          "output_type": "stream",
          "name": "stdout",
          "text": [
            "Currently processing file: adrso313.wav\n"
          ]
        },
        {
          "output_type": "stream",
          "name": "stderr",
          "text": [
            "\r 89%|████████▉ | 326/366 [02:54<00:33,  1.21it/s]"
          ]
        },
        {
          "output_type": "stream",
          "name": "stdout",
          "text": [
            "Currently processing file: adrso314.wav\n"
          ]
        },
        {
          "output_type": "stream",
          "name": "stderr",
          "text": [
            " 90%|████████▉ | 328/366 [02:54<00:19,  1.94it/s]"
          ]
        },
        {
          "output_type": "stream",
          "name": "stdout",
          "text": [
            "Currently processing file: adrso089.wav\n",
            "Currently processing file: adrso316.wavCurrently processing file: adrso315.wav\n",
            "\n"
          ]
        },
        {
          "output_type": "stream",
          "name": "stderr",
          "text": [
            "\r 90%|█████████ | 330/366 [02:55<00:18,  1.96it/s]"
          ]
        },
        {
          "output_type": "stream",
          "name": "stdout",
          "text": [
            "Currently processing file: adrso309.wav\n"
          ]
        },
        {
          "output_type": "stream",
          "name": "stderr",
          "text": [
            " 91%|█████████ | 332/366 [02:56<00:13,  2.59it/s]"
          ]
        },
        {
          "output_type": "stream",
          "name": "stdout",
          "text": [
            "Currently processing file: adrso310.wav\n",
            "Currently processing file: adrso312.wav\n",
            "Currently processing file: adrso317.wav\n"
          ]
        },
        {
          "output_type": "stream",
          "name": "stderr",
          "text": [
            "\r 91%|█████████▏| 334/366 [02:56<00:11,  2.71it/s]"
          ]
        },
        {
          "output_type": "stream",
          "name": "stdout",
          "text": [
            "Currently processing file: FTD04.wav\n"
          ]
        },
        {
          "output_type": "stream",
          "name": "stderr",
          "text": [
            "\r 92%|█████████▏| 335/366 [02:59<00:29,  1.05it/s]"
          ]
        },
        {
          "output_type": "stream",
          "name": "stdout",
          "text": [
            "Currently processing file: Park_MCI04.wav\n",
            "Currently processing file: FTD01.wav\n"
          ]
        },
        {
          "output_type": "stream",
          "name": "stderr",
          "text": [
            " 92%|█████████▏| 338/366 [03:00<00:16,  1.73it/s]"
          ]
        },
        {
          "output_type": "stream",
          "name": "stdout",
          "text": [
            "Currently processing file: Park_Dement01.wav\n",
            "Currently processing file: FTD03.wav\n",
            "Currently processing file: Park_MCI01.wav\n"
          ]
        },
        {
          "output_type": "stream",
          "name": "stderr",
          "text": [
            " 93%|█████████▎| 342/366 [03:00<00:07,  3.33it/s]"
          ]
        },
        {
          "output_type": "stream",
          "name": "stdout",
          "text": [
            "Currently processing file: FTD02.wav\n",
            "Currently processing file: PPA_LPA.wav\n",
            "Currently processing file: PPA_PnfA.wav\n"
          ]
        },
        {
          "output_type": "stream",
          "name": "stderr",
          "text": [
            "\r 94%|█████████▎| 343/366 [03:01<00:10,  2.24it/s]"
          ]
        },
        {
          "output_type": "stream",
          "name": "stdout",
          "text": [
            "Currently processing file: Park_MCI03.wav\n"
          ]
        },
        {
          "output_type": "stream",
          "name": "stderr",
          "text": [
            "\r 94%|█████████▍| 344/366 [03:03<00:14,  1.52it/s]"
          ]
        },
        {
          "output_type": "stream",
          "name": "stdout",
          "text": [
            "Currently processing file: Park_Dement03.wav\n"
          ]
        },
        {
          "output_type": "stream",
          "name": "stderr",
          "text": [
            "\r 94%|█████████▍| 345/366 [03:03<00:11,  1.81it/s]"
          ]
        },
        {
          "output_type": "stream",
          "name": "stdout",
          "text": [
            "Currently processing file: Park_MCI02.wav\n"
          ]
        },
        {
          "output_type": "stream",
          "name": "stderr",
          "text": [
            "\r 95%|█████████▍| 346/366 [03:13<01:00,  3.05s/it]"
          ]
        },
        {
          "output_type": "stream",
          "name": "stdout",
          "text": [
            "Currently processing file: Park_Dement02.wav\n"
          ]
        },
        {
          "output_type": "stream",
          "name": "stderr",
          "text": [
            "\r 95%|█████████▍| 347/366 [03:25<01:41,  5.34s/it]"
          ]
        },
        {
          "output_type": "stream",
          "name": "stdout",
          "text": [
            "Currently processing file: madrs081.wav\n"
          ]
        },
        {
          "output_type": "stream",
          "name": "stderr",
          "text": [
            "\r 95%|█████████▌| 348/366 [03:26<01:16,  4.23s/it]"
          ]
        },
        {
          "output_type": "stream",
          "name": "stdout",
          "text": [
            "Currently processing file: madrs009.wav\n"
          ]
        },
        {
          "output_type": "stream",
          "name": "stderr",
          "text": [
            "\r 95%|█████████▌| 349/366 [03:28<00:57,  3.41s/it]"
          ]
        },
        {
          "output_type": "stream",
          "name": "stdout",
          "text": [
            "Currently processing file: madrs087.wav\n"
          ]
        },
        {
          "output_type": "stream",
          "name": "stderr",
          "text": [
            "\r 96%|█████████▌| 350/366 [03:28<00:41,  2.57s/it]"
          ]
        },
        {
          "output_type": "stream",
          "name": "stdout",
          "text": [
            "Currently processing file: madrs097.wav\n"
          ]
        },
        {
          "output_type": "stream",
          "name": "stderr",
          "text": [
            "\r 96%|█████████▌| 351/366 [03:28<00:28,  1.90s/it]"
          ]
        },
        {
          "output_type": "stream",
          "name": "stdout",
          "text": [
            "Currently processing file: madrs046.wav\n"
          ]
        },
        {
          "output_type": "stream",
          "name": "stderr",
          "text": [
            "\r 96%|█████████▌| 352/366 [03:32<00:32,  2.36s/it]"
          ]
        },
        {
          "output_type": "stream",
          "name": "stdout",
          "text": [
            "Currently processing file: madrs054.wav\n"
          ]
        },
        {
          "output_type": "stream",
          "name": "stderr",
          "text": [
            " 97%|█████████▋| 354/366 [03:32<00:16,  1.33s/it]"
          ]
        },
        {
          "output_type": "stream",
          "name": "stdout",
          "text": [
            "Currently processing file: madrs047.wav\n",
            "Currently processing file: madrs002.wav\n"
          ]
        },
        {
          "output_type": "stream",
          "name": "stderr",
          "text": [
            "100%|██████████| 366/366 [04:04<00:00,  1.50it/s]\n"
          ]
        }
      ]
    },
    {
      "cell_type": "code",
      "source": [
        "import pandas as pd\n",
        "\n",
        "# Load your existing CSV file into a DataFrame\n",
        "csv_df = pd.read_csv('/content/drive/MyDrive/dataset/normalized.csv')\n",
        "\n",
        "# Assuming audio_features is a dictionary where each key is an audio file name\n",
        "# and each value is a DataFrame with a single row of features\n",
        "\n",
        "# Concatenate all DataFrames in the dictionary into a single DataFrame\n",
        "features_df_list = []\n",
        "for key, df in audio_features.items():\n",
        "    df['Audio File'] = key  # Add a column with the audio file name\n",
        "    features_df_list.append(df)\n",
        "\n",
        "# Concatenate all the dataframes in the list\n",
        "features_df = pd.concat(features_df_list)\n",
        "\n",
        "# Reset the index of the new DataFrame\n",
        "features_df.reset_index(drop=True, inplace=True)\n",
        "\n",
        "# Merge the features into your existing DataFrame\n",
        "# Adjust the 'on' parameter if the 'Audio File' doesn't match the corresponding column in your CSV\n",
        "merged_df = pd.merge(csv_df, features_df, on='Audio File', how='left')\n",
        "\n",
        "# Save the merged DataFrame to a new CSV file\n",
        "merged_df.to_csv('/content/drive/MyDrive/dataset/egemaps.csv', index=False)\n"
      ],
      "metadata": {
        "id": "QOhyke1oIMMR"
      },
      "execution_count": null,
      "outputs": []
    },
    {
      "cell_type": "code",
      "source": [],
      "metadata": {
        "id": "OXNAu2xskx53"
      },
      "execution_count": null,
      "outputs": []
    },
    {
      "cell_type": "code",
      "source": [
        "from sklearn.preprocessing import StandardScaler\n",
        "\n",
        "# List of columns to exclude from normalization\n",
        "cols_to_exclude = ['Audio File', 'gender_male', 'gender_female', 'diagnosis_AD', 'diagnosis_HC',\n",
        "                   'language_English', 'language_Spanish', 'language_German', 'language_Greek',\n",
        "                   'age_scaled', 'education_scaled']\n",
        "\n",
        "# Assuming 'df' is your dataframe\n",
        "# Select only the columns that need to be normalized\n",
        "features_to_normalize = merged_df.drop(cols_to_exclude, axis=1)\n",
        "\n",
        "# Initialize the StandardScaler\n",
        "scaler = StandardScaler()\n",
        "\n",
        "# Fit the scaler to the features and transform them\n",
        "normalized_features = scaler.fit_transform(features_to_normalize)\n",
        "\n",
        "# Create a new DataFrame with the normalized features\n",
        "normalized_df = pd.DataFrame(normalized_features, columns=features_to_normalize.columns, index=merged_df.index)\n",
        "\n",
        "# Now, drop the old feature columns from the original dataframe\n",
        "merged_df.drop(features_to_normalize.columns, axis=1, inplace=True)\n",
        "\n",
        "# Concatenate the normalized features with the rest of the dataframe\n",
        "normalized_df = pd.concat([merged_df[cols_to_exclude], normalized_df], axis=1)\n",
        "normalized_df.to_csv('/content/drive/MyDrive/dataset/egemaps_normalized_data.csv', index=False)\n"
      ],
      "metadata": {
        "id": "u_vcDZ7fm96M"
      },
      "execution_count": null,
      "outputs": []
    },
    {
      "cell_type": "code",
      "source": [
        "!git clone https://github.com/aniqahanif/AD-System\n"
      ],
      "metadata": {
        "colab": {
          "base_uri": "https://localhost:8080/"
        },
        "id": "ZUKA8iQ8Qcvr",
        "outputId": "c672d41a-3bfa-461a-e45e-a56e439b4800"
      },
      "execution_count": 52,
      "outputs": [
        {
          "output_type": "stream",
          "name": "stdout",
          "text": [
            "Cloning into 'AD-System'...\n",
            "warning: You appear to have cloned an empty repository.\n"
          ]
        }
      ]
    },
    {
      "cell_type": "code",
      "source": [
        "!cp /content/drive/MyDrive/ColabNotebooks/eGeMAPSExtractionAndCSVCreation.ipynb /content/AD-System/\n"
      ],
      "metadata": {
        "id": "5LqHHb1uQiFG"
      },
      "execution_count": 55,
      "outputs": []
    },
    {
      "cell_type": "code",
      "source": [
        "cd /content/AD-System/\n"
      ],
      "metadata": {
        "colab": {
          "base_uri": "https://localhost:8080/"
        },
        "id": "z5i5bWPqQvP8",
        "outputId": "1f5d5a8f-aed1-4e23-baee-f27380a63404"
      },
      "execution_count": 56,
      "outputs": [
        {
          "output_type": "stream",
          "name": "stdout",
          "text": [
            "/content/AD-System\n"
          ]
        }
      ]
    },
    {
      "cell_type": "code",
      "source": [
        "!git status\n",
        "\n"
      ],
      "metadata": {
        "colab": {
          "base_uri": "https://localhost:8080/"
        },
        "id": "veFQsoDcRNfX",
        "outputId": "234f10ca-8a99-4178-f585-c199010f32c9"
      },
      "execution_count": 69,
      "outputs": [
        {
          "output_type": "stream",
          "name": "stdout",
          "text": [
            "On branch main\n",
            "Your branch is based on 'origin/main', but the upstream is gone.\n",
            "  (use \"git branch --unset-upstream\" to fixup)\n",
            "\n",
            "nothing to commit, working tree clean\n"
          ]
        }
      ]
    },
    {
      "cell_type": "code",
      "source": [
        "!git add .\n"
      ],
      "metadata": {
        "id": "VSYESZRfRTzz"
      },
      "execution_count": 70,
      "outputs": []
    },
    {
      "cell_type": "code",
      "source": [
        "!git commit -m \"egemaps work\"\n"
      ],
      "metadata": {
        "colab": {
          "base_uri": "https://localhost:8080/"
        },
        "id": "CbV6iYEoRhhM",
        "outputId": "158fa34c-cacb-4f73-bb89-951f603b2018"
      },
      "execution_count": 71,
      "outputs": [
        {
          "output_type": "stream",
          "name": "stdout",
          "text": [
            "On branch main\n",
            "Your branch is based on 'origin/main', but the upstream is gone.\n",
            "  (use \"git branch --unset-upstream\" to fixup)\n",
            "\n",
            "nothing to commit, working tree clean\n"
          ]
        }
      ]
    },
    {
      "cell_type": "code",
      "source": [
        "!git config --global user.email \"aniqahanifkhan@gmail.com\"\n",
        "!git config --global user.name \"aniqahanif\"\n"
      ],
      "metadata": {
        "id": "3aQzRNPFRksC"
      },
      "execution_count": 72,
      "outputs": []
    },
    {
      "cell_type": "code",
      "source": [
        "!git commit -m \"egemaps work\"\n"
      ],
      "metadata": {
        "colab": {
          "base_uri": "https://localhost:8080/"
        },
        "id": "gNR7hfDBRu-P",
        "outputId": "189a08a3-fefc-47f9-c737-613c2cbb90e9"
      },
      "execution_count": 73,
      "outputs": [
        {
          "output_type": "stream",
          "name": "stdout",
          "text": [
            "On branch main\n",
            "Your branch is based on 'origin/main', but the upstream is gone.\n",
            "  (use \"git branch --unset-upstream\" to fixup)\n",
            "\n",
            "nothing to commit, working tree clean\n"
          ]
        }
      ]
    },
    {
      "cell_type": "code",
      "source": [],
      "metadata": {
        "colab": {
          "base_uri": "https://localhost:8080/"
        },
        "id": "aCz_svCNRy2A",
        "outputId": "68731b17-26e2-46b3-c2f5-4826554394b8"
      },
      "execution_count": 65,
      "outputs": [
        {
          "output_type": "stream",
          "name": "stdout",
          "text": [
            "fatal: could not read Username for 'https://github.com': No such device or address\n"
          ]
        }
      ]
    },
    {
      "cell_type": "code",
      "source": [
        "# Change the remote URL to SSH (replace 'username' and 'repository' accordingly)\n",
        "\n",
        "# Now try pushing again\n",
        "!git push origin main\n"
      ],
      "metadata": {
        "colab": {
          "base_uri": "https://localhost:8080/"
        },
        "id": "XCYCRc7hR07D",
        "outputId": "3ebb58a9-0f8a-4176-d90c-7756cb7f5ab5"
      },
      "execution_count": 74,
      "outputs": [
        {
          "output_type": "stream",
          "name": "stdout",
          "text": [
            "Host key verification failed.\r\n",
            "fatal: Could not read from remote repository.\n",
            "\n",
            "Please make sure you have the correct access rights\n",
            "and the repository exists.\n"
          ]
        }
      ]
    },
    {
      "cell_type": "code",
      "source": [],
      "metadata": {
        "id": "GIDpGGeRSHTO"
      },
      "execution_count": null,
      "outputs": []
    }
  ]
}